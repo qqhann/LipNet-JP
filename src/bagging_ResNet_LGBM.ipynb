{
 "cells": [
  {
   "cell_type": "code",
   "execution_count": 1,
   "metadata": {},
   "outputs": [],
   "source": [
    "import torch\n",
    "import torch.nn as nn\n",
    "import torch.nn.functional as F\n",
    "import torch.optim as optim\n",
    "from torch.autograd import Variable\n",
    "from torch.utils.data import TensorDataset, Dataset, DataLoader, random_split\n",
    "import torchvision\n",
    "import torchvision.transforms as transforms\n",
    "\n",
    "import matplotlib.pyplot as plt\n",
    "import seaborn as sns\n",
    "import math\n",
    "import numpy as np\n",
    "from pathlib import Path\n",
    "import cv2\n",
    "import json\n",
    "import pandas as pd\n",
    "from tqdm.auto import tqdm, trange\n",
    "from PIL import Image\n",
    "from sklearn.model_selection import train_test_split\n",
    "import datetime\n",
    "import time\n",
    "\n",
    "from sklearn.metrics import accuracy_score\n",
    "import lightgbm as lgb\n",
    "\n",
    "import face_alignment\n",
    "from skimage import io\n",
    "fa = face_alignment.FaceAlignment(face_alignment.LandmarksType._2D, flip_input=False)\n"
   ]
  },
  {
   "cell_type": "code",
   "execution_count": 2,
   "metadata": {},
   "outputs": [],
   "source": [
    "device = torch.device('cuda' if torch.cuda.is_available() else 'cpu')\n",
    "dtype_float = torch.cuda.FloatTensor if torch.cuda.is_available() else torch.FloatTensor"
   ]
  },
  {
   "cell_type": "code",
   "execution_count": 70,
   "metadata": {},
   "outputs": [],
   "source": [
    "letters = ['A', 'I', 'U', 'E', 'O', 'N']"
   ]
  },
  {
   "cell_type": "code",
   "execution_count": 6,
   "metadata": {},
   "outputs": [],
   "source": [
    "workdir = Path('/home/jphacks/LipNet-JP/')\n",
    "\n",
    "# spk = 's{}'.format(youtube_id)\n",
    "# txtpath = workdir / 'data/align/output{}word.align'.format(youtube_id)\n",
    "\n",
    "# lm_path = Path('/home/jphacks/LipNet-JP/data/processed/{0}/{0}.csv'.format(youtube_id))\n",
    "# croppeddir = Path('/home/jphacks/LipNet-JP/data/processed2/{0}/{0}_aligned_aligned_cropped'.format(youtube_id))\n",
    "# assert croppeddir.exists()\n",
    "\n",
    "# datadir = Path('/home/jphacks/LipNet-JP/data')\n",
    "# # videodir = datadir / 'lip_video'\n",
    "# # txtdir = datadir / 'align_txt'"
   ]
  },
  {
   "cell_type": "code",
   "execution_count": 5,
   "metadata": {},
   "outputs": [],
   "source": [
    "inwidth, inheight = 160, 80"
   ]
  },
  {
   "cell_type": "markdown",
   "metadata": {},
   "source": [
    "# ***Change to use Firebase data***"
   ]
  },
  {
   "cell_type": "markdown",
   "metadata": {},
   "source": [
    "#### Utils"
   ]
  },
  {
   "cell_type": "code",
   "execution_count": 50,
   "metadata": {
    "collapsed": true,
    "jupyter": {
     "outputs_hidden": true
    }
   },
   "outputs": [
    {
     "data": {
      "text/plain": [
       "['centerPoint_x',\n",
       " 'centerPoint_y',\n",
       " 'faceContour_0_x',\n",
       " 'faceContour_0_y',\n",
       " 'faceContour_1_x',\n",
       " 'faceContour_1_y',\n",
       " 'faceContour_2_x',\n",
       " 'faceContour_2_y',\n",
       " 'faceContour_3_x',\n",
       " 'faceContour_3_y',\n",
       " 'faceContour_4_x',\n",
       " 'faceContour_4_y',\n",
       " 'faceContour_5_x',\n",
       " 'faceContour_5_y',\n",
       " 'faceContour_6_x',\n",
       " 'faceContour_6_y',\n",
       " 'faceContour_7_x',\n",
       " 'faceContour_7_y',\n",
       " 'faceContour_8_x',\n",
       " 'faceContour_8_y',\n",
       " 'faceContour_9_x',\n",
       " 'faceContour_9_y',\n",
       " 'faceContour_10_x',\n",
       " 'faceContour_10_y',\n",
       " 'faceContour_11_x',\n",
       " 'faceContour_11_y',\n",
       " 'faceContour_12_x',\n",
       " 'faceContour_12_y',\n",
       " 'faceContour_13_x',\n",
       " 'faceContour_13_y',\n",
       " 'faceContour_14_x',\n",
       " 'faceContour_14_y',\n",
       " 'faceContour_15_x',\n",
       " 'faceContour_15_y',\n",
       " 'faceContour_16_x',\n",
       " 'faceContour_16_y',\n",
       " 'innerHeight',\n",
       " 'innerPoints_0_x',\n",
       " 'innerPoints_0_y',\n",
       " 'innerPoints_1_x',\n",
       " 'innerPoints_1_y',\n",
       " 'innerPoints_2_x',\n",
       " 'innerPoints_2_y',\n",
       " 'innerPoints_3_x',\n",
       " 'innerPoints_3_y',\n",
       " 'innerPoints_4_x',\n",
       " 'innerPoints_4_y',\n",
       " 'innerPoints_5_x',\n",
       " 'innerPoints_5_y',\n",
       " 'innerWidth',\n",
       " 'leftEye_0_x',\n",
       " 'leftEye_0_y',\n",
       " 'leftEye_1_x',\n",
       " 'leftEye_1_y',\n",
       " 'leftEye_2_x',\n",
       " 'leftEye_2_y',\n",
       " 'leftEye_3_x',\n",
       " 'leftEye_3_y',\n",
       " 'leftEye_4_x',\n",
       " 'leftEye_4_y',\n",
       " 'leftEye_5_x',\n",
       " 'leftEye_5_y',\n",
       " 'leftEyebrow_0_x',\n",
       " 'leftEyebrow_0_y',\n",
       " 'leftEyebrow_1_x',\n",
       " 'leftEyebrow_1_y',\n",
       " 'leftEyebrow_2_x',\n",
       " 'leftEyebrow_2_y',\n",
       " 'leftEyebrow_3_x',\n",
       " 'leftEyebrow_3_y',\n",
       " 'leftEyebrow_4_x',\n",
       " 'leftEyebrow_4_y',\n",
       " 'leftEyebrow_5_x',\n",
       " 'leftEyebrow_5_y',\n",
       " 'leftPupil_0_x',\n",
       " 'leftPupil_0_y',\n",
       " 'median_0_x',\n",
       " 'median_0_y',\n",
       " 'median_1_x',\n",
       " 'median_1_y',\n",
       " 'median_2_x',\n",
       " 'median_2_y',\n",
       " 'median_3_x',\n",
       " 'median_3_y',\n",
       " 'median_4_x',\n",
       " 'median_4_y',\n",
       " 'median_5_x',\n",
       " 'median_5_y',\n",
       " 'median_6_x',\n",
       " 'median_6_y',\n",
       " 'median_7_x',\n",
       " 'median_7_y',\n",
       " 'median_8_x',\n",
       " 'median_8_y',\n",
       " 'median_9_x',\n",
       " 'median_9_y',\n",
       " 'nose_0_x',\n",
       " 'nose_0_y',\n",
       " 'nose_1_x',\n",
       " 'nose_1_y',\n",
       " 'nose_2_x',\n",
       " 'nose_2_y',\n",
       " 'nose_3_x',\n",
       " 'nose_3_y',\n",
       " 'nose_4_x',\n",
       " 'nose_4_y',\n",
       " 'nose_5_x',\n",
       " 'nose_5_y',\n",
       " 'nose_6_x',\n",
       " 'nose_6_y',\n",
       " 'nose_7_x',\n",
       " 'nose_7_y',\n",
       " 'noseCrest_0_x',\n",
       " 'noseCrest_0_y',\n",
       " 'noseCrest_1_x',\n",
       " 'noseCrest_1_y',\n",
       " 'noseCrest_2_x',\n",
       " 'noseCrest_2_y',\n",
       " 'noseCrest_3_x',\n",
       " 'noseCrest_3_y',\n",
       " 'noseCrest_4_x',\n",
       " 'noseCrest_4_y',\n",
       " 'noseCrest_5_x',\n",
       " 'noseCrest_5_y',\n",
       " 'outerHeight',\n",
       " 'outerPoints_0_x',\n",
       " 'outerPoints_0_y',\n",
       " 'outerPoints_1_x',\n",
       " 'outerPoints_1_y',\n",
       " 'outerPoints_2_x',\n",
       " 'outerPoints_2_y',\n",
       " 'outerPoints_3_x',\n",
       " 'outerPoints_3_y',\n",
       " 'outerPoints_4_x',\n",
       " 'outerPoints_4_y',\n",
       " 'outerPoints_5_x',\n",
       " 'outerPoints_5_y',\n",
       " 'outerPoints_6_x',\n",
       " 'outerPoints_6_y',\n",
       " 'outerPoints_7_x',\n",
       " 'outerPoints_7_y',\n",
       " 'outerPoints_8_x',\n",
       " 'outerPoints_8_y',\n",
       " 'outerPoints_9_x',\n",
       " 'outerPoints_9_y',\n",
       " 'outerPoints_10_x',\n",
       " 'outerPoints_10_y',\n",
       " 'outerPoints_11_x',\n",
       " 'outerPoints_11_y',\n",
       " 'outerPoints_12_x',\n",
       " 'outerPoints_12_y',\n",
       " 'outerPoints_13_x',\n",
       " 'outerPoints_13_y',\n",
       " 'outerWidth',\n",
       " 'rightEye_0_x',\n",
       " 'rightEye_0_y',\n",
       " 'rightEye_1_x',\n",
       " 'rightEye_1_y',\n",
       " 'rightEye_2_x',\n",
       " 'rightEye_2_y',\n",
       " 'rightEye_3_x',\n",
       " 'rightEye_3_y',\n",
       " 'rightEye_4_x',\n",
       " 'rightEye_4_y',\n",
       " 'rightEye_5_x',\n",
       " 'rightEye_5_y',\n",
       " 'rightEyebrow_0_x',\n",
       " 'rightEyebrow_0_y',\n",
       " 'rightEyebrow_1_x',\n",
       " 'rightEyebrow_1_y',\n",
       " 'rightEyebrow_2_x',\n",
       " 'rightEyebrow_2_y',\n",
       " 'rightEyebrow_3_x',\n",
       " 'rightEyebrow_3_y',\n",
       " 'rightEyebrow_4_x',\n",
       " 'rightEyebrow_4_y',\n",
       " 'rightEyebrow_5_x',\n",
       " 'rightEyebrow_5_y',\n",
       " 'rightPupil_0_x',\n",
       " 'rightPupil_0_y',\n",
       " 'timestamp']"
      ]
     },
     "execution_count": 50,
     "metadata": {},
     "output_type": "execute_result"
    }
   ],
   "source": [
    "def _extract_xy(name, xy_dict):  # -> {name_x: Float, name_y: Float}\n",
    "    return {\n",
    "        '{}_x'.format(name): xy_dict['x'],\n",
    "        '{}_y'.format(name): xy_dict['y'],\n",
    "    }\n",
    "\n",
    "def _extract_xy_list(name, xy_dict_list):  # -> {name_x_0: Float, name_y_0: Float}\n",
    "    tmp_list = [_extract_xy('{}_{}'.format(name, i), xy_dict) \n",
    "                 for i, xy_dict in enumerate(xy_dict_list)]\n",
    "    return {\n",
    "        k: v\n",
    "        for d in tmp_list\n",
    "        for k, v in d.items()\n",
    "    }\n",
    "\n",
    "def extract_to_df(data):\n",
    "    res = {\n",
    "        # {'centerPoint': {'x': 0.4855373203754425, 'y': 0.30535265803337097},\n",
    "        **_extract_xy('centerPoint', data['centerPoint']),\n",
    "        #  'faceContour': [{'x': 0.8791602253913879, 'y': 0.7177956700325012},\n",
    "        **_extract_xy_list('faceContour', data['faceContour']),\n",
    "        #  'innerHeight': 0.06307950615882874,\n",
    "        'innerHeight': data['innerHeight'],\n",
    "        #  'innerPoints': [{'x': 0.4265343248844147, 'y': 0.33877941966056824},\n",
    "        **_extract_xy_list('innerPoints', data['innerPoints']),\n",
    "        #  'innerWidth': 0.1182754635810852,\n",
    "        'innerWidth': data['innerWidth'],\n",
    "        #  'leftEye': [{'x': 0.236593097448349, 'y': 0.7194131016731262},\n",
    "        **_extract_xy_list('leftEye', data['leftEye']),\n",
    "        #  'leftEyebrow': [{'x': 0.19079166650772095, 'y': 0.844763457775116},\n",
    "        **_extract_xy_list('leftEyebrow', data['leftEyebrow']),\n",
    "        #  'leftPupil': [{'x': 0.3044869601726532, 'y': 0.7288480997085571}],\n",
    "        **_extract_xy_list('leftPupil', data['leftPupil']),\n",
    "        #  'median': [{'x': 0.49469760060310364, 'y': 0.7412483096122742},\n",
    "        **_extract_xy_list('median', data['median']),\n",
    "        #  'nose': [{'x': 0.49308109283447266, 'y': 0.6676555275917053},\n",
    "        **_extract_xy_list('nose', data['nose']),\n",
    "        #  'noseCrest': [{'x': 0.49469760060310364, 'y': 0.7412483096122742},\n",
    "        **_extract_xy_list('noseCrest', data['noseCrest']),\n",
    "        #  'outerHeight': 0.17683832347393036,\n",
    "        'outerHeight': data['outerHeight'],\n",
    "        #  'outerPoints': [{'x': 0.3686089813709259, 'y': 0.34686654806137085},\n",
    "        **_extract_xy_list('outerPoints', data['outerPoints']),\n",
    "        #  'outerWidth': 0.2863936424255371,\n",
    "        'outerWidth': data['outerWidth'],\n",
    "        #  'rightEye': [{'x': 0.7579210996627808, 'y': 0.7264219522476196},\n",
    "        **_extract_xy_list('rightEye', data['rightEye']),\n",
    "        #  'rightEyebrow': [{'x': 0.8209654688835144, 'y': 0.8535244464874268},\n",
    "        **_extract_xy_list('rightEyebrow', data['rightEyebrow']),\n",
    "        #  'rightPupil': [{'x': 0.681405782699585, 'y': 0.7350481748580933}],\n",
    "        **_extract_xy_list('rightPupil', data['rightPupil']),\n",
    "        #  'timestamp': 1572419402.812715,\n",
    "        'timestamp': data['timestamp'],\n",
    "        #  'uuid': '0FA48F40-AB4D-43DC-849A-D5AB158B52CF'}\n",
    "        # Should not use\n",
    "    }\n",
    "    return res\n",
    "\n",
    "# list(extract_to_df(lm_xy_data).keys())"
   ]
  },
  {
   "cell_type": "code",
   "execution_count": 14,
   "metadata": {},
   "outputs": [],
   "source": [
    "firelmpath = '/home/jphacks/LipNet-JP/data/firebase/jphacks-export.json'\n",
    "with open(firelmpath) as f:\n",
    "    firelmdict = json.load(f)"
   ]
  },
  {
   "cell_type": "code",
   "execution_count": 52,
   "metadata": {},
   "outputs": [],
   "source": [
    "firecolumns = ['centerPoint_x', 'centerPoint_y', 'faceContour_0_x', 'faceContour_0_y', 'faceContour_1_x', 'faceContour_1_y', 'faceContour_2_x', 'faceContour_2_y', 'faceContour_3_x', 'faceContour_3_y', 'faceContour_4_x', 'faceContour_4_y', 'faceContour_5_x', 'faceContour_5_y', 'faceContour_6_x', 'faceContour_6_y', 'faceContour_7_x', 'faceContour_7_y', 'faceContour_8_x', 'faceContour_8_y', 'faceContour_9_x', 'faceContour_9_y', 'faceContour_10_x', 'faceContour_10_y', 'faceContour_11_x', 'faceContour_11_y', 'faceContour_12_x', 'faceContour_12_y', 'faceContour_13_x', 'faceContour_13_y', 'faceContour_14_x', 'faceContour_14_y', 'faceContour_15_x', 'faceContour_15_y', 'faceContour_16_x', 'faceContour_16_y', 'innerHeight', 'innerPoints_0_x', 'innerPoints_0_y', 'innerPoints_1_x', 'innerPoints_1_y', 'innerPoints_2_x', 'innerPoints_2_y', 'innerPoints_3_x', 'innerPoints_3_y', 'innerPoints_4_x', 'innerPoints_4_y', 'innerPoints_5_x', 'innerPoints_5_y', 'innerWidth', 'leftEye_0_x', 'leftEye_0_y', 'leftEye_1_x', 'leftEye_1_y', 'leftEye_2_x', 'leftEye_2_y', 'leftEye_3_x', 'leftEye_3_y', 'leftEye_4_x', 'leftEye_4_y', 'leftEye_5_x', 'leftEye_5_y', 'leftEyebrow_0_x', 'leftEyebrow_0_y', 'leftEyebrow_1_x', 'leftEyebrow_1_y', 'leftEyebrow_2_x', 'leftEyebrow_2_y', 'leftEyebrow_3_x', 'leftEyebrow_3_y', 'leftEyebrow_4_x', 'leftEyebrow_4_y', 'leftEyebrow_5_x', 'leftEyebrow_5_y', 'leftPupil_0_x', 'leftPupil_0_y', 'median_0_x', 'median_0_y', 'median_1_x', 'median_1_y', 'median_2_x', 'median_2_y', 'median_3_x', 'median_3_y', 'median_4_x', 'median_4_y', 'median_5_x', 'median_5_y', 'median_6_x', 'median_6_y', 'median_7_x', 'median_7_y', 'median_8_x', 'median_8_y', 'median_9_x', 'median_9_y', 'nose_0_x', 'nose_0_y', 'nose_1_x', 'nose_1_y', 'nose_2_x', 'nose_2_y', 'nose_3_x', 'nose_3_y', 'nose_4_x', 'nose_4_y', 'nose_5_x', 'nose_5_y', 'nose_6_x', 'nose_6_y', 'nose_7_x', 'nose_7_y', 'noseCrest_0_x', 'noseCrest_0_y', 'noseCrest_1_x', 'noseCrest_1_y', 'noseCrest_2_x', 'noseCrest_2_y', 'noseCrest_3_x', 'noseCrest_3_y', 'noseCrest_4_x', 'noseCrest_4_y', 'noseCrest_5_x', 'noseCrest_5_y', 'outerHeight', 'outerPoints_0_x', 'outerPoints_0_y', 'outerPoints_1_x', 'outerPoints_1_y', 'outerPoints_2_x', 'outerPoints_2_y', 'outerPoints_3_x', 'outerPoints_3_y', 'outerPoints_4_x', 'outerPoints_4_y', 'outerPoints_5_x', 'outerPoints_5_y', 'outerPoints_6_x', 'outerPoints_6_y', 'outerPoints_7_x', 'outerPoints_7_y', 'outerPoints_8_x', 'outerPoints_8_y', 'outerPoints_9_x', 'outerPoints_9_y', 'outerPoints_10_x', 'outerPoints_10_y', 'outerPoints_11_x', 'outerPoints_11_y', 'outerPoints_12_x', 'outerPoints_12_y', 'outerPoints_13_x', 'outerPoints_13_y', 'outerWidth', 'rightEye_0_x', 'rightEye_0_y', 'rightEye_1_x', 'rightEye_1_y', 'rightEye_2_x', 'rightEye_2_y', 'rightEye_3_x', 'rightEye_3_y', 'rightEye_4_x', 'rightEye_4_y', 'rightEye_5_x', 'rightEye_5_y', 'rightEyebrow_0_x', 'rightEyebrow_0_y', 'rightEyebrow_1_x', 'rightEyebrow_1_y', 'rightEyebrow_2_x', 'rightEyebrow_2_y', 'rightEyebrow_3_x', 'rightEyebrow_3_y', 'rightEyebrow_4_x', 'rightEyebrow_4_y', 'rightEyebrow_5_x', 'rightEyebrow_5_y', 'rightPupil_0_x', 'rightPupil_0_y', 'timestamp']"
   ]
  },
  {
   "cell_type": "code",
   "execution_count": 54,
   "metadata": {},
   "outputs": [],
   "source": [
    "fire_df = pd.DataFrame(columns=firecolumns + ['target'])"
   ]
  },
  {
   "cell_type": "code",
   "execution_count": 77,
   "metadata": {
    "collapsed": true,
    "jupyter": {
     "outputs_hidden": true
    }
   },
   "outputs": [
    {
     "name": "stdout",
     "output_type": "stream",
     "text": [
      "Extracting for user 0FA48F40-AB4D-43DC-849A-D5AB158B52CF\n",
      "Extracting for user 2009FC6B-C143-4F58-AFB9-464D2D42C4AF\n",
      "Extracting for user 278D67D3-5F9E-462E-8D6E-F11922E25A46\n",
      "Extracting for user 3C41CD0A-6F31-4628-A497-CA8212D95C39\n",
      "Extracting for user 457808A0-787F-44D6-A359-FA804F904B54\n",
      "Extracting for user 472534F2-D288-4113-9CB8-5F862C75446E\n",
      "Extracting for user 665215FF-A4F4-49C8-91BE-CE7F97B0706C\n",
      "Extracting for user 7A4B833F-ECFA-4DDD-A960-AF5D87A807DF\n",
      "Extracting for user 7C989A26-F36E-4BAD-AA62-B306E55D6098\n",
      "Extracting for user 8461733D-0EA6-46EB-8878-DCBCD0F54D9B\n",
      "Extracting for user 9015141A-9A47-4F4A-956F-BF4FCFEABF5B\n",
      "Extracting for user D6FF7BC5-036A-4BC9-A359-3FCA8AAD10F5\n",
      "Extracting for user FBE74105-AB1A-4007-A952-BCAA68DCE627\n",
      "Extracting for user 0FA48F40-AB4D-43DC-849A-D5AB158B52CF\n",
      "Extracting for user 278D67D3-5F9E-462E-8D6E-F11922E25A46\n",
      "Extracting for user 3C41CD0A-6F31-4628-A497-CA8212D95C39\n",
      "Extracting for user 457808A0-787F-44D6-A359-FA804F904B54\n",
      "Extracting for user 472534F2-D288-4113-9CB8-5F862C75446E\n",
      "Extracting for user 665215FF-A4F4-49C8-91BE-CE7F97B0706C\n",
      "Extracting for user 7A4B833F-ECFA-4DDD-A960-AF5D87A807DF\n",
      "Extracting for user 8461733D-0EA6-46EB-8878-DCBCD0F54D9B\n",
      "Extracting for user 9015141A-9A47-4F4A-956F-BF4FCFEABF5B\n",
      "Extracting for user FBE74105-AB1A-4007-A952-BCAA68DCE627\n",
      "Extracting for user 0FA48F40-AB4D-43DC-849A-D5AB158B52CF\n",
      "Extracting for user 278D67D3-5F9E-462E-8D6E-F11922E25A46\n",
      "Extracting for user 3C41CD0A-6F31-4628-A497-CA8212D95C39\n",
      "Extracting for user 457808A0-787F-44D6-A359-FA804F904B54\n",
      "Extracting for user 665215FF-A4F4-49C8-91BE-CE7F97B0706C\n",
      "Extracting for user 7A4B833F-ECFA-4DDD-A960-AF5D87A807DF\n",
      "Extracting for user 8461733D-0EA6-46EB-8878-DCBCD0F54D9B\n",
      "Extracting for user 9015141A-9A47-4F4A-956F-BF4FCFEABF5B\n",
      "Extracting for user FBE74105-AB1A-4007-A952-BCAA68DCE627\n",
      "Extracting for user 0FA48F40-AB4D-43DC-849A-D5AB158B52CF\n",
      "Extracting for user 278D67D3-5F9E-462E-8D6E-F11922E25A46\n",
      "Extracting for user 3C41CD0A-6F31-4628-A497-CA8212D95C39\n",
      "Extracting for user 457808A0-787F-44D6-A359-FA804F904B54\n",
      "Extracting for user 665215FF-A4F4-49C8-91BE-CE7F97B0706C\n",
      "Extracting for user 7A4B833F-ECFA-4DDD-A960-AF5D87A807DF\n",
      "Extracting for user 8461733D-0EA6-46EB-8878-DCBCD0F54D9B\n",
      "Extracting for user 9015141A-9A47-4F4A-956F-BF4FCFEABF5B\n",
      "Extracting for user FBE74105-AB1A-4007-A952-BCAA68DCE627\n",
      "Extracting for user 0FA48F40-AB4D-43DC-849A-D5AB158B52CF\n",
      "Extracting for user 278D67D3-5F9E-462E-8D6E-F11922E25A46\n",
      "Extracting for user 457808A0-787F-44D6-A359-FA804F904B54\n",
      "Extracting for user 665215FF-A4F4-49C8-91BE-CE7F97B0706C\n",
      "Extracting for user 7A4B833F-ECFA-4DDD-A960-AF5D87A807DF\n",
      "Extracting for user 8461733D-0EA6-46EB-8878-DCBCD0F54D9B\n",
      "Extracting for user 9015141A-9A47-4F4A-956F-BF4FCFEABF5B\n",
      "Extracting for user FBE74105-AB1A-4007-A952-BCAA68DCE627\n",
      "Extracting for user 0FA48F40-AB4D-43DC-849A-D5AB158B52CF\n",
      "Extracting for user 278D67D3-5F9E-462E-8D6E-F11922E25A46\n",
      "Extracting for user 457808A0-787F-44D6-A359-FA804F904B54\n",
      "Extracting for user 665215FF-A4F4-49C8-91BE-CE7F97B0706C\n",
      "Extracting for user 7A4B833F-ECFA-4DDD-A960-AF5D87A807DF\n",
      "Extracting for user 8461733D-0EA6-46EB-8878-DCBCD0F54D9B\n",
      "Extracting for user 9015141A-9A47-4F4A-956F-BF4FCFEABF5B\n",
      "Extracting for user FBE74105-AB1A-4007-A952-BCAA68DCE627\n"
     ]
    },
    {
     "data": {
      "text/html": [
       "<div>\n",
       "<style scoped>\n",
       "    .dataframe tbody tr th:only-of-type {\n",
       "        vertical-align: middle;\n",
       "    }\n",
       "\n",
       "    .dataframe tbody tr th {\n",
       "        vertical-align: top;\n",
       "    }\n",
       "\n",
       "    .dataframe thead th {\n",
       "        text-align: right;\n",
       "    }\n",
       "</style>\n",
       "<table border=\"1\" class=\"dataframe\">\n",
       "  <thead>\n",
       "    <tr style=\"text-align: right;\">\n",
       "      <th></th>\n",
       "      <th>centerPoint_x</th>\n",
       "      <th>centerPoint_y</th>\n",
       "      <th>faceContour_0_x</th>\n",
       "      <th>faceContour_0_y</th>\n",
       "      <th>faceContour_1_x</th>\n",
       "      <th>faceContour_1_y</th>\n",
       "      <th>faceContour_2_x</th>\n",
       "      <th>faceContour_2_y</th>\n",
       "      <th>faceContour_3_x</th>\n",
       "      <th>faceContour_3_y</th>\n",
       "      <th>...</th>\n",
       "      <th>rightEyebrow_3_x</th>\n",
       "      <th>rightEyebrow_3_y</th>\n",
       "      <th>rightEyebrow_4_x</th>\n",
       "      <th>rightEyebrow_4_y</th>\n",
       "      <th>rightEyebrow_5_x</th>\n",
       "      <th>rightEyebrow_5_y</th>\n",
       "      <th>rightPupil_0_x</th>\n",
       "      <th>rightPupil_0_y</th>\n",
       "      <th>timestamp</th>\n",
       "      <th>target</th>\n",
       "    </tr>\n",
       "  </thead>\n",
       "  <tbody>\n",
       "    <tr>\n",
       "      <td>0</td>\n",
       "      <td>0.485537</td>\n",
       "      <td>0.305353</td>\n",
       "      <td>0.879160</td>\n",
       "      <td>0.717796</td>\n",
       "      <td>0.882393</td>\n",
       "      <td>0.609967</td>\n",
       "      <td>0.870539</td>\n",
       "      <td>0.501600</td>\n",
       "      <td>0.850063</td>\n",
       "      <td>0.394311</td>\n",
       "      <td>...</td>\n",
       "      <td>0.591958</td>\n",
       "      <td>0.827915</td>\n",
       "      <td>0.704576</td>\n",
       "      <td>0.852446</td>\n",
       "      <td>0.817732</td>\n",
       "      <td>0.829802</td>\n",
       "      <td>0.681406</td>\n",
       "      <td>0.735048</td>\n",
       "      <td>1.572419e+09</td>\n",
       "      <td>0.0</td>\n",
       "    </tr>\n",
       "    <tr>\n",
       "      <td>1</td>\n",
       "      <td>0.492028</td>\n",
       "      <td>0.316491</td>\n",
       "      <td>0.875982</td>\n",
       "      <td>0.720750</td>\n",
       "      <td>0.879238</td>\n",
       "      <td>0.615138</td>\n",
       "      <td>0.867842</td>\n",
       "      <td>0.508711</td>\n",
       "      <td>0.847219</td>\n",
       "      <td>0.403913</td>\n",
       "      <td>...</td>\n",
       "      <td>0.586728</td>\n",
       "      <td>0.823240</td>\n",
       "      <td>0.699065</td>\n",
       "      <td>0.851340</td>\n",
       "      <td>0.813573</td>\n",
       "      <td>0.832335</td>\n",
       "      <td>0.678443</td>\n",
       "      <td>0.726180</td>\n",
       "      <td>1.572419e+09</td>\n",
       "      <td>1.0</td>\n",
       "    </tr>\n",
       "    <tr>\n",
       "      <td>2</td>\n",
       "      <td>0.492238</td>\n",
       "      <td>0.291980</td>\n",
       "      <td>0.884907</td>\n",
       "      <td>0.723179</td>\n",
       "      <td>0.886491</td>\n",
       "      <td>0.618814</td>\n",
       "      <td>0.872232</td>\n",
       "      <td>0.513392</td>\n",
       "      <td>0.849522</td>\n",
       "      <td>0.409291</td>\n",
       "      <td>...</td>\n",
       "      <td>0.590735</td>\n",
       "      <td>0.825431</td>\n",
       "      <td>0.704813</td>\n",
       "      <td>0.854759</td>\n",
       "      <td>0.821003</td>\n",
       "      <td>0.839566</td>\n",
       "      <td>0.679990</td>\n",
       "      <td>0.725029</td>\n",
       "      <td>1.572419e+09</td>\n",
       "      <td>2.0</td>\n",
       "    </tr>\n",
       "    <tr>\n",
       "      <td>3</td>\n",
       "      <td>0.479012</td>\n",
       "      <td>0.295640</td>\n",
       "      <td>0.892816</td>\n",
       "      <td>0.727926</td>\n",
       "      <td>0.896628</td>\n",
       "      <td>0.616246</td>\n",
       "      <td>0.884649</td>\n",
       "      <td>0.503203</td>\n",
       "      <td>0.863415</td>\n",
       "      <td>0.392067</td>\n",
       "      <td>...</td>\n",
       "      <td>0.588452</td>\n",
       "      <td>0.841922</td>\n",
       "      <td>0.701160</td>\n",
       "      <td>0.865620</td>\n",
       "      <td>0.814956</td>\n",
       "      <td>0.847506</td>\n",
       "      <td>0.681014</td>\n",
       "      <td>0.736098</td>\n",
       "      <td>1.572419e+09</td>\n",
       "      <td>3.0</td>\n",
       "    </tr>\n",
       "    <tr>\n",
       "      <td>4</td>\n",
       "      <td>0.494165</td>\n",
       "      <td>0.248060</td>\n",
       "      <td>0.896677</td>\n",
       "      <td>0.715340</td>\n",
       "      <td>0.899596</td>\n",
       "      <td>0.603485</td>\n",
       "      <td>0.885585</td>\n",
       "      <td>0.490461</td>\n",
       "      <td>0.860483</td>\n",
       "      <td>0.380067</td>\n",
       "      <td>...</td>\n",
       "      <td>0.589028</td>\n",
       "      <td>0.830554</td>\n",
       "      <td>0.710453</td>\n",
       "      <td>0.856108</td>\n",
       "      <td>0.830711</td>\n",
       "      <td>0.831430</td>\n",
       "      <td>0.688270</td>\n",
       "      <td>0.731111</td>\n",
       "      <td>1.572419e+09</td>\n",
       "      <td>4.0</td>\n",
       "    </tr>\n",
       "    <tr>\n",
       "      <td>...</td>\n",
       "      <td>...</td>\n",
       "      <td>...</td>\n",
       "      <td>...</td>\n",
       "      <td>...</td>\n",
       "      <td>...</td>\n",
       "      <td>...</td>\n",
       "      <td>...</td>\n",
       "      <td>...</td>\n",
       "      <td>...</td>\n",
       "      <td>...</td>\n",
       "      <td>...</td>\n",
       "      <td>...</td>\n",
       "      <td>...</td>\n",
       "      <td>...</td>\n",
       "      <td>...</td>\n",
       "      <td>...</td>\n",
       "      <td>...</td>\n",
       "      <td>...</td>\n",
       "      <td>...</td>\n",
       "      <td>...</td>\n",
       "      <td>...</td>\n",
       "    </tr>\n",
       "    <tr>\n",
       "      <td>6801</td>\n",
       "      <td>0.497726</td>\n",
       "      <td>0.292274</td>\n",
       "      <td>0.863677</td>\n",
       "      <td>0.700749</td>\n",
       "      <td>0.863677</td>\n",
       "      <td>0.591884</td>\n",
       "      <td>0.845900</td>\n",
       "      <td>0.483632</td>\n",
       "      <td>0.815864</td>\n",
       "      <td>0.376913</td>\n",
       "      <td>...</td>\n",
       "      <td>0.629517</td>\n",
       "      <td>0.853467</td>\n",
       "      <td>0.738628</td>\n",
       "      <td>0.855154</td>\n",
       "      <td>0.840383</td>\n",
       "      <td>0.816974</td>\n",
       "      <td>0.700623</td>\n",
       "      <td>0.729575</td>\n",
       "      <td>1.572413e+09</td>\n",
       "      <td>5.0</td>\n",
       "    </tr>\n",
       "    <tr>\n",
       "      <td>6802</td>\n",
       "      <td>0.505779</td>\n",
       "      <td>0.293632</td>\n",
       "      <td>0.864407</td>\n",
       "      <td>0.696944</td>\n",
       "      <td>0.864407</td>\n",
       "      <td>0.590185</td>\n",
       "      <td>0.846624</td>\n",
       "      <td>0.484019</td>\n",
       "      <td>0.816393</td>\n",
       "      <td>0.379632</td>\n",
       "      <td>...</td>\n",
       "      <td>0.636189</td>\n",
       "      <td>0.846851</td>\n",
       "      <td>0.740517</td>\n",
       "      <td>0.848779</td>\n",
       "      <td>0.838918</td>\n",
       "      <td>0.813192</td>\n",
       "      <td>0.703173</td>\n",
       "      <td>0.725116</td>\n",
       "      <td>1.572413e+09</td>\n",
       "      <td>5.0</td>\n",
       "    </tr>\n",
       "    <tr>\n",
       "      <td>6803</td>\n",
       "      <td>0.504791</td>\n",
       "      <td>0.297639</td>\n",
       "      <td>0.862131</td>\n",
       "      <td>0.709389</td>\n",
       "      <td>0.863957</td>\n",
       "      <td>0.600970</td>\n",
       "      <td>0.847521</td>\n",
       "      <td>0.492551</td>\n",
       "      <td>0.818301</td>\n",
       "      <td>0.385959</td>\n",
       "      <td>...</td>\n",
       "      <td>0.638108</td>\n",
       "      <td>0.860902</td>\n",
       "      <td>0.741597</td>\n",
       "      <td>0.864404</td>\n",
       "      <td>0.838998</td>\n",
       "      <td>0.830295</td>\n",
       "      <td>0.701419</td>\n",
       "      <td>0.734971</td>\n",
       "      <td>1.572413e+09</td>\n",
       "      <td>5.0</td>\n",
       "    </tr>\n",
       "    <tr>\n",
       "      <td>6804</td>\n",
       "      <td>0.506292</td>\n",
       "      <td>0.295945</td>\n",
       "      <td>0.867313</td>\n",
       "      <td>0.704027</td>\n",
       "      <td>0.868553</td>\n",
       "      <td>0.595412</td>\n",
       "      <td>0.851805</td>\n",
       "      <td>0.487107</td>\n",
       "      <td>0.822030</td>\n",
       "      <td>0.380354</td>\n",
       "      <td>...</td>\n",
       "      <td>0.635316</td>\n",
       "      <td>0.860122</td>\n",
       "      <td>0.742630</td>\n",
       "      <td>0.862295</td>\n",
       "      <td>0.843741</td>\n",
       "      <td>0.824745</td>\n",
       "      <td>0.704791</td>\n",
       "      <td>0.733508</td>\n",
       "      <td>1.572413e+09</td>\n",
       "      <td>5.0</td>\n",
       "    </tr>\n",
       "    <tr>\n",
       "      <td>6805</td>\n",
       "      <td>0.507002</td>\n",
       "      <td>0.287148</td>\n",
       "      <td>0.876112</td>\n",
       "      <td>0.702856</td>\n",
       "      <td>0.876112</td>\n",
       "      <td>0.593092</td>\n",
       "      <td>0.857929</td>\n",
       "      <td>0.483631</td>\n",
       "      <td>0.827019</td>\n",
       "      <td>0.375686</td>\n",
       "      <td>...</td>\n",
       "      <td>0.643979</td>\n",
       "      <td>0.862650</td>\n",
       "      <td>0.749439</td>\n",
       "      <td>0.862650</td>\n",
       "      <td>0.847626</td>\n",
       "      <td>0.825355</td>\n",
       "      <td>0.711255</td>\n",
       "      <td>0.729539</td>\n",
       "      <td>1.572413e+09</td>\n",
       "      <td>5.0</td>\n",
       "    </tr>\n",
       "  </tbody>\n",
       "</table>\n",
       "<p>6806 rows × 182 columns</p>\n",
       "</div>"
      ],
      "text/plain": [
       "      centerPoint_x  centerPoint_y  faceContour_0_x  faceContour_0_y  \\\n",
       "0          0.485537       0.305353         0.879160         0.717796   \n",
       "1          0.492028       0.316491         0.875982         0.720750   \n",
       "2          0.492238       0.291980         0.884907         0.723179   \n",
       "3          0.479012       0.295640         0.892816         0.727926   \n",
       "4          0.494165       0.248060         0.896677         0.715340   \n",
       "...             ...            ...              ...              ...   \n",
       "6801       0.497726       0.292274         0.863677         0.700749   \n",
       "6802       0.505779       0.293632         0.864407         0.696944   \n",
       "6803       0.504791       0.297639         0.862131         0.709389   \n",
       "6804       0.506292       0.295945         0.867313         0.704027   \n",
       "6805       0.507002       0.287148         0.876112         0.702856   \n",
       "\n",
       "      faceContour_1_x  faceContour_1_y  faceContour_2_x  faceContour_2_y  \\\n",
       "0            0.882393         0.609967         0.870539         0.501600   \n",
       "1            0.879238         0.615138         0.867842         0.508711   \n",
       "2            0.886491         0.618814         0.872232         0.513392   \n",
       "3            0.896628         0.616246         0.884649         0.503203   \n",
       "4            0.899596         0.603485         0.885585         0.490461   \n",
       "...               ...              ...              ...              ...   \n",
       "6801         0.863677         0.591884         0.845900         0.483632   \n",
       "6802         0.864407         0.590185         0.846624         0.484019   \n",
       "6803         0.863957         0.600970         0.847521         0.492551   \n",
       "6804         0.868553         0.595412         0.851805         0.487107   \n",
       "6805         0.876112         0.593092         0.857929         0.483631   \n",
       "\n",
       "      faceContour_3_x  faceContour_3_y  ...  rightEyebrow_3_x  \\\n",
       "0            0.850063         0.394311  ...          0.591958   \n",
       "1            0.847219         0.403913  ...          0.586728   \n",
       "2            0.849522         0.409291  ...          0.590735   \n",
       "3            0.863415         0.392067  ...          0.588452   \n",
       "4            0.860483         0.380067  ...          0.589028   \n",
       "...               ...              ...  ...               ...   \n",
       "6801         0.815864         0.376913  ...          0.629517   \n",
       "6802         0.816393         0.379632  ...          0.636189   \n",
       "6803         0.818301         0.385959  ...          0.638108   \n",
       "6804         0.822030         0.380354  ...          0.635316   \n",
       "6805         0.827019         0.375686  ...          0.643979   \n",
       "\n",
       "      rightEyebrow_3_y  rightEyebrow_4_x  rightEyebrow_4_y  rightEyebrow_5_x  \\\n",
       "0             0.827915          0.704576          0.852446          0.817732   \n",
       "1             0.823240          0.699065          0.851340          0.813573   \n",
       "2             0.825431          0.704813          0.854759          0.821003   \n",
       "3             0.841922          0.701160          0.865620          0.814956   \n",
       "4             0.830554          0.710453          0.856108          0.830711   \n",
       "...                ...               ...               ...               ...   \n",
       "6801          0.853467          0.738628          0.855154          0.840383   \n",
       "6802          0.846851          0.740517          0.848779          0.838918   \n",
       "6803          0.860902          0.741597          0.864404          0.838998   \n",
       "6804          0.860122          0.742630          0.862295          0.843741   \n",
       "6805          0.862650          0.749439          0.862650          0.847626   \n",
       "\n",
       "      rightEyebrow_5_y  rightPupil_0_x  rightPupil_0_y     timestamp  target  \n",
       "0             0.829802        0.681406        0.735048  1.572419e+09     0.0  \n",
       "1             0.832335        0.678443        0.726180  1.572419e+09     1.0  \n",
       "2             0.839566        0.679990        0.725029  1.572419e+09     2.0  \n",
       "3             0.847506        0.681014        0.736098  1.572419e+09     3.0  \n",
       "4             0.831430        0.688270        0.731111  1.572419e+09     4.0  \n",
       "...                ...             ...             ...           ...     ...  \n",
       "6801          0.816974        0.700623        0.729575  1.572413e+09     5.0  \n",
       "6802          0.813192        0.703173        0.725116  1.572413e+09     5.0  \n",
       "6803          0.830295        0.701419        0.734971  1.572413e+09     5.0  \n",
       "6804          0.824745        0.704791        0.733508  1.572413e+09     5.0  \n",
       "6805          0.825355        0.711255        0.729539  1.572413e+09     5.0  \n",
       "\n",
       "[6806 rows x 182 columns]"
      ]
     },
     "execution_count": 77,
     "metadata": {},
     "output_type": "execute_result"
    }
   ],
   "source": [
    "for target_i, target in enumerate(['a', 'i', 'u', 'e', 'o', 'n']):\n",
    "    for user, frame_data in firelmdict['vowel_log'][target].items():\n",
    "        print('Extracting for user {}'.format(user))\n",
    "        for frame_name, lm_xy_data in frame_data.items():\n",
    "            res_row = {**extract_to_df(lm_xy_data), 'target': int(target_i)}\n",
    "            fire_df = fire_df.append(res_row, ignore_index=True)\n",
    "\n",
    "fire_df"
   ]
  },
  {
   "cell_type": "markdown",
   "metadata": {},
   "source": [
    "# Use Python face-landmark package"
   ]
  },
  {
   "cell_type": "code",
   "execution_count": 9,
   "metadata": {
    "jupyter": {
     "source_hidden": true
    }
   },
   "outputs": [],
   "source": [
    "import face_alignment\n",
    "from skimage import io\n",
    "\n",
    "fa = face_alignment.FaceAlignment(face_alignment.LandmarksType._2D, flip_input=False)\n"
   ]
  },
  {
   "cell_type": "code",
   "execution_count": 10,
   "metadata": {
    "jupyter": {
     "source_hidden": true
    }
   },
   "outputs": [
    {
     "name": "stdout",
     "output_type": "stream",
     "text": [
      "/home/jphacks/LipNet-JP/data/processed/1/1_aligned/frame_det_00_002946.bmp\n"
     ]
    }
   ],
   "source": [
    "youtube_id = 1\n",
    "faceimgdir = Path('/home/jphacks/LipNet-JP/data/processed/{0}/{0}_aligned'.format(youtube_id))\n",
    "print(list(faceimgdir.iterdir())[0])\n"
   ]
  },
  {
   "cell_type": "code",
   "execution_count": null,
   "metadata": {
    "jupyter": {
     "source_hidden": true
    }
   },
   "outputs": [],
   "source": [
    "input = io.imread(list(faceimgdir.iterdir())[0])\n",
    "preds = fa.get_landmarks(input)\n",
    "\n",
    "preds = preds[0]\n",
    "sns.scatterplot(x=[p[0] for p in preds], y=[p[1] for p in preds])"
   ]
  },
  {
   "cell_type": "code",
   "execution_count": null,
   "metadata": {
    "jupyter": {
     "source_hidden": true
    }
   },
   "outputs": [],
   "source": []
  },
  {
   "cell_type": "markdown",
   "metadata": {},
   "source": [
    "## Load Data"
   ]
  },
  {
   "cell_type": "code",
   "execution_count": 7,
   "metadata": {
    "jupyter": {
     "source_hidden": true
    }
   },
   "outputs": [
    {
     "data": {
      "application/vnd.jupyter.widget-view+json": {
       "model_id": "4b0daa86882e4a02b9362a32f996a368",
       "version_major": 2,
       "version_minor": 0
      },
      "text/plain": [
       "HBox(children=(IntProgress(value=0, max=2), HTML(value='')))"
      ]
     },
     "metadata": {},
     "output_type": "display_data"
    },
    {
     "name": "stdout",
     "output_type": "stream",
     "text": [
      "\n"
     ]
    }
   ],
   "source": [
    "lm_df_list = []\n",
    "\n",
    "for youtube_id in tqdm(range(1, 2+1)):  # max is 6 but it is too slow\n",
    "    aligned_lm_path = Path('/home/jphacks/LipNet-JP/data/processed2/{0}/{0}_aligned.csv'.format(youtube_id))\n",
    "    aligned_lm_df = pd.read_csv(str(aligned_lm_path))\n",
    "    aligned_lm_df['timestamp'] = (aligned_lm_df['frame'] - 1) * (1/30)\n",
    "\n",
    "    # Imgpathをdfに追加する\n",
    "    aligned_lm_df['imgpath'] = aligned_lm_df.apply(\n",
    "        lambda r: '/home/jphacks/LipNet-JP/data/processed2/{0}/{0}_aligned_aligned_cropped/frame_det_00_{1:06d}.bmp'.format(\n",
    "            youtube_id, int(r.frame)), axis=1)\n",
    "\n",
    "    txtpath = workdir / 'data/align/output{}word.align'.format(youtube_id)\n",
    "    with open(txtpath, 'r') as f:\n",
    "        txt = json.load(f)\n",
    "\n",
    "    aligned_lm_df['target'] = -1\n",
    "\n",
    "    for word in txt:\n",
    "        for c in word:\n",
    "            aligned_lm_df.loc[(aligned_lm_df.timestamp >= c['start']) & (aligned_lm_df.timestamp < c['end']), \n",
    "                              'target'] \\\n",
    "            = letters.index(c['word'].upper())\n",
    "    lm_df_list.append(aligned_lm_df)\n",
    "\n",
    "lm_df = pd.concat(lm_df_list)"
   ]
  },
  {
   "cell_type": "code",
   "execution_count": null,
   "metadata": {
    "jupyter": {
     "source_hidden": true
    }
   },
   "outputs": [],
   "source": [
    "## 話していないときのデータを削除\n",
    "lm_df = lm_df[lm_df['target'] != -1]\n",
    "lm_df"
   ]
  },
  {
   "cell_type": "markdown",
   "metadata": {},
   "source": [
    "# ResNet"
   ]
  },
  {
   "cell_type": "markdown",
   "metadata": {},
   "source": [
    "### Util"
   ]
  },
  {
   "cell_type": "code",
   "execution_count": null,
   "metadata": {
    "jupyter": {
     "source_hidden": true
    }
   },
   "outputs": [],
   "source": [
    "def epoch_time(start_time, end_time):\n",
    "    elapsed_time = end_time - start_time\n",
    "    elapsed_mins = int(elapsed_time / 60)\n",
    "    elapsed_secs = int(elapsed_time - (elapsed_mins * 60))\n",
    "    return elapsed_mins, elapsed_secs"
   ]
  },
  {
   "cell_type": "markdown",
   "metadata": {},
   "source": [
    "### Data Import"
   ]
  },
  {
   "cell_type": "code",
   "execution_count": null,
   "metadata": {
    "jupyter": {
     "source_hidden": true
    }
   },
   "outputs": [],
   "source": [
    "preprocess = transforms.Compose([\n",
    "    transforms.Resize(152),\n",
    "    transforms.CenterCrop(152),\n",
    "    transforms.ToTensor(),\n",
    "    transforms.Normalize(mean=[0.485, 0.456, 0.406], std=[0.229, 0.224, 0.225]),\n",
    "])"
   ]
  },
  {
   "cell_type": "markdown",
   "metadata": {},
   "source": [
    "## Load"
   ]
  },
  {
   "cell_type": "code",
   "execution_count": null,
   "metadata": {
    "jupyter": {
     "source_hidden": true
    }
   },
   "outputs": [],
   "source": [
    "imglist = []\n",
    "targetlist = []\n",
    "_lett_counter = {l: 0 for l in letters}\n",
    "for idx, row in tqdm(lm_df.iterrows()):\n",
    "    if row.target < 0:\n",
    "        continue\n",
    "    imgpath = row.imgpath\n",
    "    img = Image.open(str(imgpath))\n",
    "    input_tensor = preprocess(img)\n",
    "    size = np.asarray(img).shape\n",
    "    if size != (inheight, inwidth, 3):\n",
    "        continue\n",
    "    # img = np.moveaxis(img, 2, 0)  # (80, 160, 3) -> (3, 80, 160)\n",
    "    imglist.append(input_tensor)\n",
    "    targetlist.append(int(row.target))\n",
    "    _lett_counter[letters[int(row.target)]] += 1"
   ]
  },
  {
   "cell_type": "markdown",
   "metadata": {},
   "source": [
    "## Dataset"
   ]
  },
  {
   "cell_type": "code",
   "execution_count": null,
   "metadata": {
    "jupyter": {
     "source_hidden": true
    }
   },
   "outputs": [],
   "source": [
    "class LipDataset(Dataset):\n",
    "    def __init__(self, imglist, targetlist, idxlist):\n",
    "        self.imglist = imglist\n",
    "        self.targetlist = targetlist\n",
    "        self.idxlist = idxlist\n",
    "    \n",
    "    def __len__(self):\n",
    "        return len(self.idxlist)\n",
    "    \n",
    "    def __getitem__(self, idx):\n",
    "        return (self.imglist[self.idxlist[idx]], self.targetlist[self.idxlist[idx]])\n",
    "    \n",
    "    def _to_list(self):\n",
    "        return [self[i] for i in range(len(self))]"
   ]
  },
  {
   "cell_type": "code",
   "execution_count": null,
   "metadata": {
    "jupyter": {
     "source_hidden": true
    }
   },
   "outputs": [],
   "source": [
    "train_idxlist, test_idxlist = train_test_split(list(range(len(imglist))), test_size=.2, shuffle=True)\n",
    "train_idxlist, validate_idxlist = train_test_split(train_idxlist, test_size=.2, shuffle=True)\n",
    "\n",
    "print(len(train_idxlist), len(validate_idxlist), len(test_idxlist))"
   ]
  },
  {
   "cell_type": "code",
   "execution_count": null,
   "metadata": {
    "jupyter": {
     "source_hidden": true
    }
   },
   "outputs": [],
   "source": [
    "train_lipdataset = LipDataset(imglist, targetlist, train_idxlist)\n",
    "validate_lipdataset = LipDataset(imglist, targetlist, validate_idxlist)\n",
    "test_lipdataset = LipDataset(imglist, targetlist, test_idxlist)"
   ]
  },
  {
   "cell_type": "code",
   "execution_count": null,
   "metadata": {
    "jupyter": {
     "source_hidden": true
    }
   },
   "outputs": [],
   "source": [
    "BATCH_SIZE = 18"
   ]
  },
  {
   "cell_type": "code",
   "execution_count": null,
   "metadata": {
    "jupyter": {
     "source_hidden": true
    }
   },
   "outputs": [],
   "source": [
    "trainloader = torch.utils.data.DataLoader(train_lipdataset, batch_size=BATCH_SIZE,\n",
    "                                          shuffle=False, num_workers=2)\n",
    "validateloader = torch.utils.data.DataLoader(validate_lipdataset, batch_size=1,\n",
    "                                         shuffle=False, num_workers=2)\n",
    "testloader = torch.utils.data.DataLoader(test_lipdataset, batch_size=1,\n",
    "                                         shuffle=False, num_workers=2)"
   ]
  },
  {
   "cell_type": "markdown",
   "metadata": {},
   "source": [
    "## Model"
   ]
  },
  {
   "cell_type": "code",
   "execution_count": null,
   "metadata": {
    "jupyter": {
     "source_hidden": true
    }
   },
   "outputs": [],
   "source": [
    "# net = torchvision.models.resnet34(pretrained=True, num_classes=6).to(device)\n",
    "net = torchvision.models.resnet34(pretrained=False, num_classes=6).to(device)"
   ]
  },
  {
   "cell_type": "code",
   "execution_count": null,
   "metadata": {
    "jupyter": {
     "source_hidden": true
    }
   },
   "outputs": [],
   "source": [
    "criterion = nn.CrossEntropyLoss()\n",
    "# optimizer = optim.SGD(net.parameters(), lr=0.5, momentum=0.9)\n",
    "optimizer = optim.Adam(net.parameters(), lr=0.001)"
   ]
  },
  {
   "cell_type": "markdown",
   "metadata": {},
   "source": [
    "## Train"
   ]
  },
  {
   "cell_type": "code",
   "execution_count": null,
   "metadata": {
    "jupyter": {
     "source_hidden": true
    }
   },
   "outputs": [],
   "source": [
    "def train(model, iterator, optimizer, criterion):\n",
    "\n",
    "    epoch_loss = 0\n",
    "    epoch_acc = 0\n",
    "\n",
    "    model.train()\n",
    "\n",
    "    for batch_idx, (data, target) in tqdm(enumerate(iterator)):\n",
    "\n",
    "        data, target = data.to(device), target.to(device)\n",
    "\n",
    "        optimizer.zero_grad()\n",
    "\n",
    "        output = net(data)\n",
    "        \n",
    "        loss = criterion(output, target)\n",
    "        _, predicted = torch.max(output, 1)\n",
    "        acc = (predicted == target.to(device)).sum()\n",
    "        \n",
    "        loss.backward()\n",
    "        \n",
    "        optimizer.step()\n",
    "        \n",
    "        epoch_loss += loss.item() / BATCH_SIZE\n",
    "        epoch_acc += acc.item() / BATCH_SIZE\n",
    "        \n",
    "\n",
    "    return epoch_loss / len(iterator), epoch_acc / len(iterator)"
   ]
  },
  {
   "cell_type": "code",
   "execution_count": null,
   "metadata": {
    "jupyter": {
     "source_hidden": true
    }
   },
   "outputs": [],
   "source": [
    "def evaluate(model, iterator, criterion):\n",
    "    \n",
    "    epoch_loss = 0\n",
    "    epoch_acc = 0\n",
    "    \n",
    "    model.eval()\n",
    "    \n",
    "    with torch.no_grad():\n",
    "    \n",
    "        for batch_idx, (data, target) in tqdm(enumerate(iterator)):\n",
    "            \n",
    "            data, target = data.to(device), target.to(device)\n",
    "                        \n",
    "            output = model(data.type(dtype_float))\n",
    "            \n",
    "            loss = criterion(output, target)\n",
    "            \n",
    "            _, predicted = torch.max(output.data, 1)\n",
    "            \n",
    "            acc = (predicted == target.to(device)).sum()\n",
    "            \n",
    "            epoch_loss += loss.item()\n",
    "            epoch_acc += acc.item()\n",
    "        \n",
    "    return epoch_loss / len(iterator), epoch_acc / len(iterator)"
   ]
  },
  {
   "cell_type": "code",
   "execution_count": null,
   "metadata": {
    "jupyter": {
     "source_hidden": true
    }
   },
   "outputs": [],
   "source": [
    "N_EPOCHS = 20\n",
    "\n",
    "best_valid_loss = float('inf')\n",
    "\n",
    "for epoch in range(N_EPOCHS):\n",
    "\n",
    "    start_time = time.time()\n",
    "    \n",
    "    train_loss, train_acc = train(net, trainloader, optimizer, criterion)\n",
    "    valid_loss, valid_acc = evaluate(net, validateloader, criterion)\n",
    "    \n",
    "    end_time = time.time()\n",
    "\n",
    "    epoch_mins, epoch_secs = epoch_time(start_time, end_time)\n",
    "    \n",
    "    if valid_loss < best_valid_loss:\n",
    "        best_valid_loss = valid_loss\n",
    "        torch.save(net.state_dict(), 'tut5-model_bagging.pt')\n",
    "    \n",
    "    print(f'Epoch: {epoch+1:02} | Epoch Time: {epoch_mins}m {epoch_secs}s')\n",
    "#     print(train_loss, train_acc)\n",
    "#     print(valid_loss, valid_acc)\n",
    "    print(f'\\tTrain Loss: {float(train_loss):.3f} | Train Acc: {float(train_acc*100):.2f}%')\n",
    "    print(f'\\t Val. Loss: {float(valid_loss):.3f} |  Val. Acc: {float(valid_acc*100):.2f}%')"
   ]
  },
  {
   "cell_type": "markdown",
   "metadata": {},
   "source": [
    "## Test"
   ]
  },
  {
   "cell_type": "code",
   "execution_count": null,
   "metadata": {
    "jupyter": {
     "source_hidden": true
    }
   },
   "outputs": [],
   "source": [
    "def test(model, iterator, optimizer, criterion):\n",
    "    model.eval()\n",
    "    class_correct = [0.] * len(letters)\n",
    "    class_total = [0.] * len(letters)\n",
    "    with torch.no_grad():\n",
    "        for data in iterator:\n",
    "            images, labels = data\n",
    "            outputs = net(images.type(dtype_float))\n",
    "            _, predicted = torch.max(outputs, 1)\n",
    "            c = (predicted == labels.to(device)).squeeze()\n",
    "            class_correct[labels.item()] += c.item() * 1\n",
    "            class_total[labels.item()] += 1\n",
    "\n",
    "    for i, l in enumerate(letters):\n",
    "        print('Accuracy of    {}: {:.4f} ({:4d}/{:4d})'.format(l, class_correct[i]/class_total[i] if class_total[i] > 0 else 0, int(class_correct[i]), int(class_total[i])))"
   ]
  },
  {
   "cell_type": "code",
   "execution_count": null,
   "metadata": {},
   "outputs": [],
   "source": [
    "test(net, testloader, optimizer, criterion)"
   ]
  },
  {
   "cell_type": "markdown",
   "metadata": {},
   "source": [
    "## Load"
   ]
  },
  {
   "cell_type": "code",
   "execution_count": null,
   "metadata": {},
   "outputs": [],
   "source": [
    "dtype_float = torch.cuda.FloatTensor if torch.cuda.is_available() else torch.FloatTensor"
   ]
  },
  {
   "cell_type": "code",
   "execution_count": null,
   "metadata": {
    "jupyter": {
     "source_hidden": true
    }
   },
   "outputs": [],
   "source": [
    "preprocess = transforms.Compose([\n",
    "    transforms.Resize(152),\n",
    "    transforms.CenterCrop(152),\n",
    "    transforms.ToTensor(),\n",
    "    transforms.Normalize(mean=[0.485, 0.456, 0.406], std=[0.229, 0.224, 0.225]),\n",
    "])"
   ]
  },
  {
   "cell_type": "code",
   "execution_count": null,
   "metadata": {
    "jupyter": {
     "source_hidden": true
    }
   },
   "outputs": [],
   "source": [
    "model = torchvision.models.resnet34(pretrained=False, num_classes=6).to(device)\n",
    "model.load_state_dict(torch.load(\"tut5-model.pt\"))\n",
    "\n",
    "predict_label_dict = {i: 0 for i in range(len(letters))}\n",
    "for i, imgpath in enumerate(croppeddir.iterdir()):\n",
    "    img = Image.open(str(imgpath))\n",
    "    input_tensor = preprocess(img)\n",
    "    input_batch = input_tensor.unsqueeze(0)\n",
    "\n",
    "    outputs = model(input_batch.type(dtype_float))\n",
    "    _, predicted = torch.max(outputs, 1)\n",
    "    predict_label = predicted.squeeze().item()\n",
    "    predict_label_dict[predict_label] += 1\n",
    "    if i > 100:\n",
    "        break\n",
    "predict_label_dict"
   ]
  },
  {
   "cell_type": "markdown",
   "metadata": {},
   "source": [
    "# Bagging using ResNet"
   ]
  },
  {
   "cell_type": "markdown",
   "metadata": {},
   "source": [
    "## Preprocess Data"
   ]
  },
  {
   "cell_type": "markdown",
   "metadata": {},
   "source": [
    "### Split"
   ]
  },
  {
   "cell_type": "code",
   "execution_count": 62,
   "metadata": {},
   "outputs": [],
   "source": [
    "aligned_lm_df = fire_df"
   ]
  },
  {
   "cell_type": "code",
   "execution_count": 63,
   "metadata": {},
   "outputs": [],
   "source": [
    "train_df, test_df = train_test_split(aligned_lm_df, test_size=.2, shuffle=True)"
   ]
  },
  {
   "cell_type": "code",
   "execution_count": 64,
   "metadata": {},
   "outputs": [],
   "source": [
    "train_x = train_df[(set(train_df.columns) - {'target'})].values\n",
    "train_y = train_df.target.values\n",
    "\n",
    "test_x = test_df[(set(test_df.columns) - {'target'})].values\n",
    "test_y = test_df.target.values"
   ]
  },
  {
   "cell_type": "markdown",
   "metadata": {},
   "source": [
    "### Add ResNet result to data"
   ]
  },
  {
   "cell_type": "code",
   "execution_count": null,
   "metadata": {},
   "outputs": [],
   "source": []
  },
  {
   "cell_type": "markdown",
   "metadata": {},
   "source": [
    "### Data -> Train Test Dataset"
   ]
  },
  {
   "cell_type": "raw",
   "metadata": {},
   "source": [
    "train_x = np.array(train_x, dtype=\"float32\")\n",
    "train_y = np.array(train_y, dtype=\"int32\")\n",
    "\n",
    "test_x = np.array(test_x, dtype=\"float32\")\n",
    "test_y = np.array(test_y, dtype=\"int32\")\n",
    "\n",
    "train_x = torch.from_numpy(train_x)\n",
    "train_y = torch.from_numpy(train_y)\n",
    "\n",
    "test_x = torch.from_numpy(test_x)\n",
    "test_y = torch.from_numpy(test_y)"
   ]
  },
  {
   "cell_type": "raw",
   "metadata": {},
   "source": [
    "EPOCH_NUM = 100\n",
    "HIDDEN_SIZE = 20\n",
    "BATCH_SIZE = 20\n",
    "N = 100"
   ]
  },
  {
   "cell_type": "raw",
   "metadata": {},
   "source": [
    "train = torch.utils.data.TensorDataset(train_x, train_y)\n",
    "train_loader = torch.utils.data.DataLoader(train, batch_size=BATCH_SIZE, shuffle=True)"
   ]
  },
  {
   "cell_type": "markdown",
   "metadata": {},
   "source": [
    "# LGBM"
   ]
  },
  {
   "cell_type": "code",
   "execution_count": 65,
   "metadata": {},
   "outputs": [],
   "source": [
    "from sklearn.metrics import accuracy_score\n",
    "import lightgbm as lgb\n",
    "from sklearn.model_selection import train_test_split"
   ]
  },
  {
   "cell_type": "raw",
   "metadata": {},
   "source": [
    "train_df, test_df = train_test_split(all_df, test_size=.2, shuffle=True)"
   ]
  },
  {
   "cell_type": "raw",
   "metadata": {},
   "source": [
    "train_x = train_df[(set(train_df.columns) - {'target'})].values\n",
    "train_y = train_df.target.values\n",
    "\n",
    "test_x = test_df[(set(test_df.columns) - {'target'})].values\n",
    "test_y = test_df.target.values"
   ]
  },
  {
   "cell_type": "code",
   "execution_count": 66,
   "metadata": {},
   "outputs": [
    {
     "data": {
      "text/plain": [
       "LGBMClassifier(boosting_type='gbdt', class_weight=None, colsample_bytree=1.0,\n",
       "               importance_type='split', learning_rate=0.1, max_depth=-1,\n",
       "               min_child_samples=20, min_child_weight=0.001, min_split_gain=0.0,\n",
       "               n_estimators=100, n_jobs=-1, num_leaves=31, objective=None,\n",
       "               random_state=None, reg_alpha=0.0, reg_lambda=0.0, silent=True,\n",
       "               subsample=1.0, subsample_for_bin=200000, subsample_freq=0)"
      ]
     },
     "execution_count": 66,
     "metadata": {},
     "output_type": "execute_result"
    }
   ],
   "source": [
    "model = lgb.LGBMClassifier(boosting_type='gbdt', class_weight=None, colsample_bytree=1.0,\n",
    "        importance_type='split', learning_rate=0.1, max_depth=-1,\n",
    "        min_child_samples=20, min_child_weight=0.001, min_split_gain=0.0,\n",
    "        n_estimators=100, n_jobs=-1, num_leaves=31, objective=None,\n",
    "        random_state=None, reg_alpha=0.0, reg_lambda=0.0, silent=True,\n",
    "        subsample=1.0, subsample_for_bin=200000, subsample_freq=0)\n",
    "model.fit(train_x, train_y)"
   ]
  },
  {
   "cell_type": "code",
   "execution_count": 67,
   "metadata": {},
   "outputs": [
    {
     "data": {
      "text/plain": [
       "1.0"
      ]
     },
     "execution_count": 67,
     "metadata": {},
     "output_type": "execute_result"
    }
   ],
   "source": [
    "accuracy_score(model.predict(train_x), train_y)"
   ]
  },
  {
   "cell_type": "code",
   "execution_count": 68,
   "metadata": {},
   "outputs": [
    {
     "data": {
      "text/plain": [
       "0.9853372434017595"
      ]
     },
     "execution_count": 68,
     "metadata": {},
     "output_type": "execute_result"
    }
   ],
   "source": [
    "accuracy_score(model.predict(test_x), test_y)"
   ]
  },
  {
   "cell_type": "code",
   "execution_count": 72,
   "metadata": {},
   "outputs": [
    {
     "name": "stdout",
     "output_type": "stream",
     "text": [
      "Accuracy of    A: 1.0000 ( 154/ 154)\n",
      "Accuracy of    I: 0.9748 ( 116/ 119)\n",
      "Accuracy of    U: 1.0000 ( 109/ 109)\n",
      "Accuracy of    E: 0.9804 ( 100/ 102)\n",
      "Accuracy of    O: 0.9798 (  97/  99)\n",
      "Accuracy of    N: 0.9697 (  96/  99)\n"
     ]
    }
   ],
   "source": [
    "pred = model.predict(test_x)\n",
    "\n",
    "class_correct = [0] * len(letters)\n",
    "class_total = [0] * len(letters)\n",
    "\n",
    "for p, a in zip(pred, test_y):\n",
    "    a = int(a)\n",
    "    class_total[a] += 1\n",
    "    if p == a:\n",
    "        class_correct[a] += 1\n",
    "\n",
    "for i, l in enumerate(letters):\n",
    "    print('Accuracy of    {}: {:.4f} ({:4d}/{:4d})'.format(l, class_correct[i]/class_total[i], class_correct[i], class_total[i]))"
   ]
  },
  {
   "cell_type": "code",
   "execution_count": 76,
   "metadata": {},
   "outputs": [
    {
     "data": {
      "text/plain": [
       "<matplotlib.axes._subplots.AxesSubplot at 0x7fc950d73810>"
      ]
     },
     "execution_count": 76,
     "metadata": {},
     "output_type": "execute_result"
    },
    {
     "data": {
      "image/png": "[encoded data removed]",
      "text/plain": [
       "<Figure size 432x288 with 2 Axes>"
      ]
     },
     "metadata": {
      "needs_background": "light"
     },
     "output_type": "display_data"
    }
   ],
   "source": [
    "confusion_matrix = np.zeros([len(letters), len(letters)])\n",
    "for p, a in zip(pred, test_y):\n",
    "    a = int(a)\n",
    "    p = int(p)\n",
    "    confusion_matrix[p, a] += 1\n",
    "    \n",
    "sns.heatmap(confusion_matrix, cmap=\"YlGnBu\")"
   ]
  },
  {
   "cell_type": "markdown",
   "metadata": {},
   "source": [
    "### LGBMでセーブ・ロード\n",
    "https://lightgbm.readthedocs.io/en/latest/Python-Intro.html"
   ]
  },
  {
   "cell_type": "code",
   "execution_count": 78,
   "metadata": {},
   "outputs": [],
   "source": [
    "model_fname = 'lgbm_fire.model'"
   ]
  },
  {
   "cell_type": "code",
   "execution_count": 79,
   "metadata": {},
   "outputs": [
    {
     "data": {
      "text/plain": [
       "<lightgbm.basic.Booster at 0x7fc9513bded0>"
      ]
     },
     "execution_count": 79,
     "metadata": {},
     "output_type": "execute_result"
    }
   ],
   "source": [
    "model_outpath = Path('/home/jphacks/LipNet-JP/model_checkpoints')\n",
    "model_outpath.mkdir(exist_ok=True)\n",
    "\n",
    "model.booster_.save_model(str(model_outpath / model_fname))"
   ]
  },
  {
   "cell_type": "code",
   "execution_count": 80,
   "metadata": {},
   "outputs": [],
   "source": [
    "bst = lgb.Booster(model_file=str(model_outpath / model_fname))"
   ]
  },
  {
   "cell_type": "code",
   "execution_count": 82,
   "metadata": {},
   "outputs": [
    {
     "name": "stdout",
     "output_type": "stream",
     "text": [
      "Accuracy of    A: 1.0000 ( 154/ 154)\n",
      "Accuracy of    I: 0.9748 ( 116/ 119)\n",
      "Accuracy of    U: 1.0000 ( 109/ 109)\n",
      "Accuracy of    E: 0.9804 ( 100/ 102)\n",
      "Accuracy of    O: 0.9798 (  97/  99)\n",
      "Accuracy of    N: 0.9697 (  96/  99)\n"
     ]
    }
   ],
   "source": [
    "import lightgbm as lgb\n",
    "from pathlib import Path\n",
    "\n",
    "model_outpath = Path('/home/jphacks/LipNet-JP/model_checkpoints')\n",
    "bst = lgb.Booster(model_file=str(model_outpath / model_fname))\n",
    "\n",
    "pred = bst.predict(test_x)\n",
    "pred = list(np.argmax(pred, axis=1))\n",
    "\n",
    "class_correct = [0] * len(letters)\n",
    "class_total = [0] * len(letters)\n",
    "for p, a in zip(pred, test_y):\n",
    "    p = int(p)\n",
    "    a = int(a)\n",
    "    class_total[a] += 1\n",
    "    if p == a:\n",
    "        class_correct[a] += 1\n",
    "for i, l in enumerate(letters):\n",
    "    print('Accuracy of    {}: {:.4f} ({:4d}/{:4d})'.format(l, class_correct[i]/class_total[i], class_correct[i], class_total[i]))"
   ]
  },
  {
   "cell_type": "code",
   "execution_count": null,
   "metadata": {},
   "outputs": [],
   "source": []
  },
  {
   "cell_type": "code",
   "execution_count": null,
   "metadata": {},
   "outputs": [],
   "source": []
  }
 ],
 "metadata": {
  "kernelspec": {
   "display_name": "Python 3",
   "language": "python",
   "name": "python3"
  },
  "language_info": {
   "codemirror_mode": {
    "name": "ipython",
    "version": 3
   },
   "file_extension": ".py",
   "mimetype": "text/x-python",
   "name": "python",
   "nbconvert_exporter": "python",
   "pygments_lexer": "ipython3",
   "version": "3.7.4"
  }
 },
 "nbformat": 4,
 "nbformat_minor": 4
}
