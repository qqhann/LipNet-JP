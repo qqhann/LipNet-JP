{
 "cells": [
  {
   "cell_type": "code",
   "execution_count": 2,
   "metadata": {},
   "outputs": [],
   "source": [
    "import torch\n",
    "import torch.nn as nn\n",
    "import torch.nn.functional as F\n",
    "import torch.optim as optim\n",
    "from torch.autograd import Variable\n",
    "from torch.utils.data import TensorDataset, Dataset, DataLoader, random_split\n",
    "import torchvision\n",
    "import torchvision.transforms as transforms\n",
    "\n",
    "import matplotlib.pyplot as plt\n",
    "import math\n",
    "import numpy as np\n",
    "from pathlib import Path\n",
    "import cv2\n",
    "import json\n",
    "import pandas as pd\n",
    "from tqdm import tqdm\n",
    "from PIL import Image\n",
    "from sklearn.model_selection import train_test_split\n",
    "import datetime\n",
    "import time\n",
    "\n",
    "import xgboost\n",
    "from sklearn.metrics import accuracy_score\n",
    "import lightgbm as lgb"
   ]
  },
  {
   "cell_type": "markdown",
   "metadata": {},
   "source": [
    "## Data Import"
   ]
  },
  {
   "cell_type": "code",
   "execution_count": 3,
   "metadata": {},
   "outputs": [],
   "source": [
    "device = torch.device('cuda' if torch.cuda.is_available() else 'cpu')\n",
    "dtype_float = torch.cuda.FloatTensor if torch.cuda.is_available() else torch.FloatTensor"
   ]
  },
  {
   "cell_type": "code",
   "execution_count": 4,
   "metadata": {},
   "outputs": [],
   "source": [
    "letters = ['A', 'I', 'U', 'E', 'O', 'N']"
   ]
  },
  {
   "cell_type": "code",
   "execution_count": 5,
   "metadata": {},
   "outputs": [],
   "source": [
    "workdir = Path('/home/jphacks/LipNet-JP/')\n",
    "youtube_id = '1'\n",
    "# youtube_id = '2'\n",
    "spk = 's{}'.format(youtube_id)\n",
    "txtpath = workdir / 'data/align' / 'output{}word.align'.format(youtube_id)\n",
    "aligned_lm_path = Path('/home/jphacks/LipNet-JP/data/processed2/{0}/{0}_aligned.csv'.format(youtube_id))\n",
    "lm_path = Path('/home/jphacks/LipNet-JP/data/processed/{0}/{0}.csv'.format(youtube_id))\n",
    "croppeddir = Path('/home/jphacks/LipNet-JP/data/processed2/{0}/{0}_aligned_aligned_cropped'.format(youtube_id))\n",
    "assert croppeddir.exists()\n",
    "\n",
    "datadir = Path('/home/jphacks/LipNet-JP/data')\n",
    "videodir = datadir / 'lip_video'\n",
    "txtdir = datadir / 'align_txt'"
   ]
  },
  {
   "cell_type": "markdown",
   "metadata": {},
   "source": [
    "## Load"
   ]
  },
  {
   "cell_type": "code",
   "execution_count": 6,
   "metadata": {},
   "outputs": [],
   "source": [
    "inwidth, inheight = 160, 80"
   ]
  },
  {
   "cell_type": "code",
   "execution_count": 7,
   "metadata": {},
   "outputs": [],
   "source": [
    "aligned_lm_df = pd.read_csv(str(aligned_lm_path))\n",
    "aligned_lm_df['timestamp'] = (aligned_lm_df['frame'] - 1) * (1/30)\n",
    "\n",
    "with open(txtpath, 'r') as f:\n",
    "    txt = json.load(f)\n",
    "\n",
    "aligned_lm_df['target'] = -1\n",
    "\n",
    "for word in txt:\n",
    "    for c in word:\n",
    "        aligned_lm_df.loc[(aligned_lm_df.timestamp >= c['start']) & (aligned_lm_df.timestamp < c['end']), 'target']         = letters.index(c['word'].upper())"
   ]
  },
  {
   "cell_type": "code",
   "execution_count": 8,
   "metadata": {},
   "outputs": [
    {
     "data": {
      "text/html": [
       "<div>\n",
       "<style scoped>\n",
       "    .dataframe tbody tr th:only-of-type {\n",
       "        vertical-align: middle;\n",
       "    }\n",
       "\n",
       "    .dataframe tbody tr th {\n",
       "        vertical-align: top;\n",
       "    }\n",
       "\n",
       "    .dataframe thead th {\n",
       "        text-align: right;\n",
       "    }\n",
       "</style>\n",
       "<table border=\"1\" class=\"dataframe\">\n",
       "  <thead>\n",
       "    <tr style=\"text-align: right;\">\n",
       "      <th></th>\n",
       "      <th>frame</th>\n",
       "      <th>face_id</th>\n",
       "      <th>timestamp</th>\n",
       "      <th>confidence</th>\n",
       "      <th>success</th>\n",
       "      <th>gaze_0_x</th>\n",
       "      <th>gaze_0_y</th>\n",
       "      <th>gaze_0_z</th>\n",
       "      <th>gaze_1_x</th>\n",
       "      <th>gaze_1_y</th>\n",
       "      <th>...</th>\n",
       "      <th>AU15_c</th>\n",
       "      <th>AU17_c</th>\n",
       "      <th>AU20_c</th>\n",
       "      <th>AU23_c</th>\n",
       "      <th>AU25_c</th>\n",
       "      <th>AU26_c</th>\n",
       "      <th>AU28_c</th>\n",
       "      <th>AU45_c</th>\n",
       "      <th>timestamp</th>\n",
       "      <th>target</th>\n",
       "    </tr>\n",
       "  </thead>\n",
       "  <tbody>\n",
       "    <tr>\n",
       "      <td>0</td>\n",
       "      <td>1</td>\n",
       "      <td>0</td>\n",
       "      <td>0.0</td>\n",
       "      <td>0.98</td>\n",
       "      <td>1</td>\n",
       "      <td>0.077917</td>\n",
       "      <td>0.293945</td>\n",
       "      <td>-0.952641</td>\n",
       "      <td>-0.316540</td>\n",
       "      <td>0.281786</td>\n",
       "      <td>...</td>\n",
       "      <td>0.0</td>\n",
       "      <td>0.0</td>\n",
       "      <td>0.0</td>\n",
       "      <td>0.0</td>\n",
       "      <td>1.0</td>\n",
       "      <td>1.0</td>\n",
       "      <td>0.0</td>\n",
       "      <td>0.0</td>\n",
       "      <td>0.000000</td>\n",
       "      <td>-1</td>\n",
       "    </tr>\n",
       "    <tr>\n",
       "      <td>1</td>\n",
       "      <td>2</td>\n",
       "      <td>0</td>\n",
       "      <td>0.0</td>\n",
       "      <td>0.98</td>\n",
       "      <td>1</td>\n",
       "      <td>0.077251</td>\n",
       "      <td>0.272675</td>\n",
       "      <td>-0.959000</td>\n",
       "      <td>-0.317211</td>\n",
       "      <td>0.262823</td>\n",
       "      <td>...</td>\n",
       "      <td>0.0</td>\n",
       "      <td>0.0</td>\n",
       "      <td>0.0</td>\n",
       "      <td>0.0</td>\n",
       "      <td>1.0</td>\n",
       "      <td>1.0</td>\n",
       "      <td>0.0</td>\n",
       "      <td>0.0</td>\n",
       "      <td>0.033333</td>\n",
       "      <td>-1</td>\n",
       "    </tr>\n",
       "    <tr>\n",
       "      <td>2</td>\n",
       "      <td>3</td>\n",
       "      <td>0</td>\n",
       "      <td>0.0</td>\n",
       "      <td>0.98</td>\n",
       "      <td>1</td>\n",
       "      <td>0.078179</td>\n",
       "      <td>0.285228</td>\n",
       "      <td>-0.955266</td>\n",
       "      <td>-0.303922</td>\n",
       "      <td>0.250068</td>\n",
       "      <td>...</td>\n",
       "      <td>0.0</td>\n",
       "      <td>0.0</td>\n",
       "      <td>0.0</td>\n",
       "      <td>0.0</td>\n",
       "      <td>1.0</td>\n",
       "      <td>0.0</td>\n",
       "      <td>0.0</td>\n",
       "      <td>0.0</td>\n",
       "      <td>0.066667</td>\n",
       "      <td>-1</td>\n",
       "    </tr>\n",
       "    <tr>\n",
       "      <td>3</td>\n",
       "      <td>4</td>\n",
       "      <td>0</td>\n",
       "      <td>0.0</td>\n",
       "      <td>0.98</td>\n",
       "      <td>1</td>\n",
       "      <td>0.082503</td>\n",
       "      <td>0.286471</td>\n",
       "      <td>-0.954530</td>\n",
       "      <td>-0.309884</td>\n",
       "      <td>0.242810</td>\n",
       "      <td>...</td>\n",
       "      <td>0.0</td>\n",
       "      <td>0.0</td>\n",
       "      <td>0.0</td>\n",
       "      <td>0.0</td>\n",
       "      <td>1.0</td>\n",
       "      <td>1.0</td>\n",
       "      <td>0.0</td>\n",
       "      <td>0.0</td>\n",
       "      <td>0.100000</td>\n",
       "      <td>-1</td>\n",
       "    </tr>\n",
       "    <tr>\n",
       "      <td>4</td>\n",
       "      <td>5</td>\n",
       "      <td>0</td>\n",
       "      <td>0.0</td>\n",
       "      <td>0.98</td>\n",
       "      <td>1</td>\n",
       "      <td>0.072832</td>\n",
       "      <td>0.289409</td>\n",
       "      <td>-0.954431</td>\n",
       "      <td>-0.322312</td>\n",
       "      <td>0.255926</td>\n",
       "      <td>...</td>\n",
       "      <td>0.0</td>\n",
       "      <td>0.0</td>\n",
       "      <td>0.0</td>\n",
       "      <td>0.0</td>\n",
       "      <td>1.0</td>\n",
       "      <td>1.0</td>\n",
       "      <td>0.0</td>\n",
       "      <td>0.0</td>\n",
       "      <td>0.133333</td>\n",
       "      <td>-1</td>\n",
       "    </tr>\n",
       "    <tr>\n",
       "      <td>...</td>\n",
       "      <td>...</td>\n",
       "      <td>...</td>\n",
       "      <td>...</td>\n",
       "      <td>...</td>\n",
       "      <td>...</td>\n",
       "      <td>...</td>\n",
       "      <td>...</td>\n",
       "      <td>...</td>\n",
       "      <td>...</td>\n",
       "      <td>...</td>\n",
       "      <td>...</td>\n",
       "      <td>...</td>\n",
       "      <td>...</td>\n",
       "      <td>...</td>\n",
       "      <td>...</td>\n",
       "      <td>...</td>\n",
       "      <td>...</td>\n",
       "      <td>...</td>\n",
       "      <td>...</td>\n",
       "      <td>...</td>\n",
       "      <td>...</td>\n",
       "    </tr>\n",
       "    <tr>\n",
       "      <td>8833</td>\n",
       "      <td>8834</td>\n",
       "      <td>0</td>\n",
       "      <td>0.0</td>\n",
       "      <td>0.93</td>\n",
       "      <td>1</td>\n",
       "      <td>0.211204</td>\n",
       "      <td>0.278979</td>\n",
       "      <td>-0.936784</td>\n",
       "      <td>-0.193433</td>\n",
       "      <td>0.300300</td>\n",
       "      <td>...</td>\n",
       "      <td>0.0</td>\n",
       "      <td>1.0</td>\n",
       "      <td>0.0</td>\n",
       "      <td>0.0</td>\n",
       "      <td>0.0</td>\n",
       "      <td>0.0</td>\n",
       "      <td>0.0</td>\n",
       "      <td>0.0</td>\n",
       "      <td>294.433333</td>\n",
       "      <td>-1</td>\n",
       "    </tr>\n",
       "    <tr>\n",
       "      <td>8834</td>\n",
       "      <td>8835</td>\n",
       "      <td>0</td>\n",
       "      <td>0.0</td>\n",
       "      <td>0.88</td>\n",
       "      <td>1</td>\n",
       "      <td>0.156352</td>\n",
       "      <td>0.355814</td>\n",
       "      <td>-0.921385</td>\n",
       "      <td>-0.199006</td>\n",
       "      <td>0.464844</td>\n",
       "      <td>...</td>\n",
       "      <td>0.0</td>\n",
       "      <td>1.0</td>\n",
       "      <td>0.0</td>\n",
       "      <td>0.0</td>\n",
       "      <td>0.0</td>\n",
       "      <td>0.0</td>\n",
       "      <td>0.0</td>\n",
       "      <td>0.0</td>\n",
       "      <td>294.466667</td>\n",
       "      <td>-1</td>\n",
       "    </tr>\n",
       "    <tr>\n",
       "      <td>8835</td>\n",
       "      <td>8836</td>\n",
       "      <td>0</td>\n",
       "      <td>0.0</td>\n",
       "      <td>0.88</td>\n",
       "      <td>1</td>\n",
       "      <td>0.206907</td>\n",
       "      <td>0.507335</td>\n",
       "      <td>-0.836541</td>\n",
       "      <td>-0.249781</td>\n",
       "      <td>0.325380</td>\n",
       "      <td>...</td>\n",
       "      <td>0.0</td>\n",
       "      <td>1.0</td>\n",
       "      <td>0.0</td>\n",
       "      <td>0.0</td>\n",
       "      <td>0.0</td>\n",
       "      <td>0.0</td>\n",
       "      <td>0.0</td>\n",
       "      <td>0.0</td>\n",
       "      <td>294.500000</td>\n",
       "      <td>-1</td>\n",
       "    </tr>\n",
       "    <tr>\n",
       "      <td>8836</td>\n",
       "      <td>8837</td>\n",
       "      <td>0</td>\n",
       "      <td>0.0</td>\n",
       "      <td>0.88</td>\n",
       "      <td>1</td>\n",
       "      <td>0.195739</td>\n",
       "      <td>0.543425</td>\n",
       "      <td>-0.816318</td>\n",
       "      <td>-0.214373</td>\n",
       "      <td>0.394439</td>\n",
       "      <td>...</td>\n",
       "      <td>0.0</td>\n",
       "      <td>1.0</td>\n",
       "      <td>0.0</td>\n",
       "      <td>0.0</td>\n",
       "      <td>0.0</td>\n",
       "      <td>0.0</td>\n",
       "      <td>0.0</td>\n",
       "      <td>0.0</td>\n",
       "      <td>294.533333</td>\n",
       "      <td>-1</td>\n",
       "    </tr>\n",
       "    <tr>\n",
       "      <td>8837</td>\n",
       "      <td>8838</td>\n",
       "      <td>0</td>\n",
       "      <td>0.0</td>\n",
       "      <td>0.93</td>\n",
       "      <td>1</td>\n",
       "      <td>0.214522</td>\n",
       "      <td>0.550760</td>\n",
       "      <td>-0.806625</td>\n",
       "      <td>-0.234075</td>\n",
       "      <td>0.419669</td>\n",
       "      <td>...</td>\n",
       "      <td>0.0</td>\n",
       "      <td>1.0</td>\n",
       "      <td>0.0</td>\n",
       "      <td>0.0</td>\n",
       "      <td>0.0</td>\n",
       "      <td>0.0</td>\n",
       "      <td>0.0</td>\n",
       "      <td>0.0</td>\n",
       "      <td>294.566667</td>\n",
       "      <td>-1</td>\n",
       "    </tr>\n",
       "  </tbody>\n",
       "</table>\n",
       "<p>8838 rows × 716 columns</p>\n",
       "</div>"
      ],
      "text/plain": [
       "      frame   face_id   timestamp   confidence   success   gaze_0_x  \\\n",
       "0         1         0         0.0         0.98         1   0.077917   \n",
       "1         2         0         0.0         0.98         1   0.077251   \n",
       "2         3         0         0.0         0.98         1   0.078179   \n",
       "3         4         0         0.0         0.98         1   0.082503   \n",
       "4         5         0         0.0         0.98         1   0.072832   \n",
       "...     ...       ...         ...          ...       ...        ...   \n",
       "8833   8834         0         0.0         0.93         1   0.211204   \n",
       "8834   8835         0         0.0         0.88         1   0.156352   \n",
       "8835   8836         0         0.0         0.88         1   0.206907   \n",
       "8836   8837         0         0.0         0.88         1   0.195739   \n",
       "8837   8838         0         0.0         0.93         1   0.214522   \n",
       "\n",
       "       gaze_0_y   gaze_0_z   gaze_1_x   gaze_1_y  ...   AU15_c   AU17_c  \\\n",
       "0      0.293945  -0.952641  -0.316540   0.281786  ...      0.0      0.0   \n",
       "1      0.272675  -0.959000  -0.317211   0.262823  ...      0.0      0.0   \n",
       "2      0.285228  -0.955266  -0.303922   0.250068  ...      0.0      0.0   \n",
       "3      0.286471  -0.954530  -0.309884   0.242810  ...      0.0      0.0   \n",
       "4      0.289409  -0.954431  -0.322312   0.255926  ...      0.0      0.0   \n",
       "...         ...        ...        ...        ...  ...      ...      ...   \n",
       "8833   0.278979  -0.936784  -0.193433   0.300300  ...      0.0      1.0   \n",
       "8834   0.355814  -0.921385  -0.199006   0.464844  ...      0.0      1.0   \n",
       "8835   0.507335  -0.836541  -0.249781   0.325380  ...      0.0      1.0   \n",
       "8836   0.543425  -0.816318  -0.214373   0.394439  ...      0.0      1.0   \n",
       "8837   0.550760  -0.806625  -0.234075   0.419669  ...      0.0      1.0   \n",
       "\n",
       "       AU20_c   AU23_c   AU25_c   AU26_c   AU28_c   AU45_c   timestamp  target  \n",
       "0         0.0      0.0      1.0      1.0      0.0      0.0    0.000000      -1  \n",
       "1         0.0      0.0      1.0      1.0      0.0      0.0    0.033333      -1  \n",
       "2         0.0      0.0      1.0      0.0      0.0      0.0    0.066667      -1  \n",
       "3         0.0      0.0      1.0      1.0      0.0      0.0    0.100000      -1  \n",
       "4         0.0      0.0      1.0      1.0      0.0      0.0    0.133333      -1  \n",
       "...       ...      ...      ...      ...      ...      ...         ...     ...  \n",
       "8833      0.0      0.0      0.0      0.0      0.0      0.0  294.433333      -1  \n",
       "8834      0.0      0.0      0.0      0.0      0.0      0.0  294.466667      -1  \n",
       "8835      0.0      0.0      0.0      0.0      0.0      0.0  294.500000      -1  \n",
       "8836      0.0      0.0      0.0      0.0      0.0      0.0  294.533333      -1  \n",
       "8837      0.0      0.0      0.0      0.0      0.0      0.0  294.566667      -1  \n",
       "\n",
       "[8838 rows x 716 columns]"
      ]
     },
     "execution_count": 8,
     "metadata": {},
     "output_type": "execute_result"
    }
   ],
   "source": [
    "aligned_lm_df"
   ]
  },
  {
   "cell_type": "code",
   "execution_count": 9,
   "metadata": {},
   "outputs": [],
   "source": [
    "## 話していないときのデータを削除\n",
    "aligned_lm_df = aligned_lm_df[aligned_lm_df['target'] != -1]"
   ]
  },
  {
   "cell_type": "code",
   "execution_count": 10,
   "metadata": {},
   "outputs": [
    {
     "data": {
      "text/plain": [
       "0    1227\n",
       "4    1097\n",
       "1     894\n",
       "3     645\n",
       "5     575\n",
       "2     561\n",
       "Name: target, dtype: int64"
      ]
     },
     "execution_count": 10,
     "metadata": {},
     "output_type": "execute_result"
    }
   ],
   "source": [
    "aligned_lm_df.target.value_counts()"
   ]
  },
  {
   "cell_type": "markdown",
   "metadata": {},
   "source": [
    "## Split"
   ]
  },
  {
   "cell_type": "code",
   "execution_count": 11,
   "metadata": {},
   "outputs": [],
   "source": [
    "train_df, test_df = train_test_split(aligned_lm_df, test_size=.2, shuffle=True)"
   ]
  },
  {
   "cell_type": "code",
   "execution_count": 12,
   "metadata": {},
   "outputs": [],
   "source": [
    "train_x = train_df[(set(train_df.columns) - {'target'})].values\n",
    "train_y = train_df.target.values\n",
    "\n",
    "test_x = test_df[(set(test_df.columns) - {'target'})].values\n",
    "test_y = test_df.target.values"
   ]
  },
  {
   "cell_type": "markdown",
   "metadata": {},
   "source": [
    "## Model"
   ]
  },
  {
   "cell_type": "code",
   "execution_count": 45,
   "metadata": {},
   "outputs": [],
   "source": [
    "class NN(torch.nn.Module):\n",
    "    def __init__(self, in_size, hidden_size, out_size):\n",
    "        # クラスの初期化\n",
    "        # :param in_size: 入力層のサイズ\n",
    "        # :param hidden_size: 隠れ層のサイズ\n",
    "        # :param out_size: 出力層のサイズ\n",
    "        super(NN, self).__init__()\n",
    "        self.xh = torch.nn.Linear(in_size, hidden_size)\n",
    "        self.hL = [torch.nn.Linear(hidden_size, hidden_size) for _ in range(150)]\n",
    "        self.hy = torch.nn.Linear(hidden_size, out_size)\n",
    " \n",
    "    def __call__(self, x):\n",
    "        # 順伝播を計算する関数\n",
    "        # :param x: 入力値\n",
    "        h = F.relu(self.xh(x))\n",
    "        for hh in self.hL:\n",
    "            h = F.relu(hh(h))\n",
    "        y = F.log_softmax(self.hy(h))\n",
    "        return y"
   ]
  },
  {
   "cell_type": "markdown",
   "metadata": {},
   "source": [
    "## Dataset"
   ]
  },
  {
   "cell_type": "code",
   "execution_count": 13,
   "metadata": {},
   "outputs": [],
   "source": [
    "train_x = np.array(train_x, dtype=\"float32\")\n",
    "train_y = np.array(train_y, dtype=\"int32\")\n",
    "\n",
    "test_x = np.array(test_x, dtype=\"float32\")\n",
    "test_y = np.array(test_y, dtype=\"int32\")\n",
    "\n",
    "train_x = torch.from_numpy(train_x)\n",
    "train_y = torch.from_numpy(train_y)\n",
    "\n",
    "test_x = torch.from_numpy(test_x)\n",
    "test_y = torch.from_numpy(test_y)"
   ]
  },
  {
   "cell_type": "code",
   "execution_count": 30,
   "metadata": {},
   "outputs": [],
   "source": [
    "EPOCH_NUM = 100\n",
    "HIDDEN_SIZE = 20\n",
    "BATCH_SIZE = 20\n",
    "N = 100"
   ]
  },
  {
   "cell_type": "code",
   "execution_count": 19,
   "metadata": {},
   "outputs": [],
   "source": [
    "train = torch.utils.data.TensorDataset(train_x, train_y)\n",
    "train_loader = torch.utils.data.DataLoader(train, batch_size=BATCH_SIZE, shuffle=True)"
   ]
  },
  {
   "cell_type": "markdown",
   "metadata": {},
   "source": [
    "## Model"
   ]
  },
  {
   "cell_type": "code",
   "execution_count": 39,
   "metadata": {},
   "outputs": [],
   "source": [
    "in_size = train_x.shape[1]\n",
    "out_size = len(letters)"
   ]
  },
  {
   "cell_type": "code",
   "execution_count": 47,
   "metadata": {},
   "outputs": [],
   "source": [
    "model = NN(in_size=in_size, hidden_size=HIDDEN_SIZE, out_size=out_size)\n",
    "# model = torchvision.models.resnet34(pretrained=False).to(device)\n",
    "criterion = nn.CrossEntropyLoss()\n",
    "optimizer = torch.optim.Adam(model.parameters())"
   ]
  },
  {
   "cell_type": "markdown",
   "metadata": {},
   "source": [
    "## Train"
   ]
  },
  {
   "cell_type": "code",
   "execution_count": 43,
   "metadata": {},
   "outputs": [],
   "source": [
    "# http://www.ie110704.net/2017/08/31/pytorch%E3%81%A7%E3%83%8B%E3%83%A5%E3%83%BC%E3%83%A9%E3%83%AB%E3%83%8D%E3%83%83%E3%83%88%E3%83%AF%E3%83%BC%E3%82%AF%E3%80%81rnn%E3%80%81cnn%E3%82%92%E5%AE%9F%E8%A3%85%E3%81%97%E3%81%A6%E3%81%BF/A"
   ]
  },
  {
   "cell_type": "code",
   "execution_count": 48,
   "metadata": {},
   "outputs": [
    {
     "name": "stderr",
     "output_type": "stream",
     "text": [
      "/home/jphacks/miniconda3/lib/python3.7/site-packages/ipykernel_launcher.py:18: UserWarning: Implicit dimension choice for log_softmax has been deprecated. Change the call to include dim=X as an argument.\n"
     ]
    },
    {
     "name": "stdout",
     "output_type": "stream",
     "text": [
      "epoch:\t10\ttotal loss:\t349.3305969238281\taccuracy:\t9.79\tvaridation accuracy\t0.248\ttime:\t0:01:09.997629\n",
      "epoch:\t20\ttotal loss:\t349.3291015625\taccuracy:\t9.79\tvaridation accuracy\t0.248\ttime:\t0:01:09.535319\n",
      "epoch:\t30\ttotal loss:\t349.31939697265625\taccuracy:\t9.79\tvaridation accuracy\t0.248\ttime:\t0:01:10.262240\n",
      "epoch:\t40\ttotal loss:\t349.3290710449219\taccuracy:\t9.79\tvaridation accuracy\t0.248\ttime:\t0:01:09.764727\n",
      "epoch:\t50\ttotal loss:\t349.3013610839844\taccuracy:\t9.79\tvaridation accuracy\t0.248\ttime:\t0:01:10.075288\n",
      "epoch:\t60\ttotal loss:\t349.34320068359375\taccuracy:\t9.79\tvaridation accuracy\t0.248\ttime:\t0:01:09.801421\n",
      "epoch:\t70\ttotal loss:\t349.3209228515625\taccuracy:\t9.79\tvaridation accuracy\t0.248\ttime:\t0:01:06.731227\n",
      "epoch:\t80\ttotal loss:\t349.3235168457031\taccuracy:\t9.79\tvaridation accuracy\t0.248\ttime:\t0:01:05.312586\n",
      "epoch:\t90\ttotal loss:\t349.3182373046875\taccuracy:\t9.79\tvaridation accuracy\t0.248\ttime:\t0:01:03.439705\n",
      "epoch:\t100\ttotal loss:\t349.3143615722656\taccuracy:\t9.79\tvaridation accuracy\t0.248\ttime:\t0:01:04.335727\n"
     ]
    }
   ],
   "source": [
    "st = datetime.datetime.now()\n",
    "for epoch in range(EPOCH_NUM):\n",
    "    # ミニバッチ学習\n",
    "    total_loss = 0\n",
    "    for i, data in enumerate(train_loader):\n",
    "        x, y = data\n",
    "        x, y = Variable(x), Variable(y).long()\n",
    "        \n",
    "        y_ = model(x)\n",
    "        loss = criterion(y_, y)\n",
    "        total_loss += loss.data\n",
    "\n",
    "        optimizer.zero_grad()\n",
    "        loss.backward()\n",
    "        optimizer.step()\n",
    "    if (epoch+1) % 10 == 0:\n",
    "        # accuracy\n",
    "        x, y = Variable(train_x), Variable(train_y).long()\n",
    "        _, y_ = torch.max(model(x).data, 1)\n",
    "        accuracy = sum(y.data.numpy() == y_.numpy()) / N\n",
    "        # test accuracy\n",
    "        x, y = Variable(test_x), Variable(test_y)\n",
    "        _, y_ = torch.max(model(x).data, 1)\n",
    "        test_accuracy = sum(y.data.numpy() == y_.numpy()) / len(y.data.numpy())\n",
    "        ed = datetime.datetime.now()\n",
    "        print(\"epoch:\\t{}\\ttotal loss:\\t{}\\taccuracy:\\t{}\\tvaridation accuracy\\t{}\\ttime:\\t{}\".format(epoch+1, total_loss, accuracy, test_accuracy, ed-st))\n",
    "        st = datetime.datetime.now()"
   ]
  },
  {
   "cell_type": "markdown",
   "metadata": {},
   "source": [
    "## XGBoost Model"
   ]
  },
  {
   "cell_type": "code",
   "execution_count": 32,
   "metadata": {},
   "outputs": [
    {
     "data": {
      "text/plain": [
       "XGBClassifier(base_score=0.5, booster='gbtree', colsample_bylevel=1,\n",
       "              colsample_bynode=1, colsample_bytree=1, gamma=0,\n",
       "              learning_rate=0.1, max_delta_step=0, max_depth=3,\n",
       "              min_child_weight=1, missing=None, n_estimators=100, n_jobs=1,\n",
       "              nthread=None, objective='multi:softprob', random_state=0,\n",
       "              reg_alpha=0, reg_lambda=1, scale_pos_weight=1, seed=None,\n",
       "              silent=None, subsample=1, verbosity=1)"
      ]
     },
     "execution_count": 32,
     "metadata": {},
     "output_type": "execute_result"
    }
   ],
   "source": [
    "model = xgboost.XGBClassifier()\n",
    "model.fit(train_x, train_y)"
   ]
  },
  {
   "cell_type": "markdown",
   "metadata": {},
   "source": [
    "## LightGBM"
   ]
  },
  {
   "cell_type": "code",
   "execution_count": 14,
   "metadata": {},
   "outputs": [
    {
     "data": {
      "text/plain": [
       "LGBMClassifier(boosting_type='gbdt', class_weight=None, colsample_bytree=1.0,\n",
       "               importance_type='split', learning_rate=0.1, max_depth=-1,\n",
       "               min_child_samples=20, min_child_weight=0.001, min_split_gain=0.0,\n",
       "               n_estimators=100, n_jobs=-1, num_leaves=31, objective=None,\n",
       "               random_state=None, reg_alpha=0.0, reg_lambda=0.0, silent=True,\n",
       "               subsample=1.0, subsample_for_bin=200000, subsample_freq=0)"
      ]
     },
     "execution_count": 14,
     "metadata": {},
     "output_type": "execute_result"
    }
   ],
   "source": [
    "model = lgb.LGBMClassifier(boosting_type='gbdt', class_weight=None, colsample_bytree=1.0,\n",
    "        importance_type='split', learning_rate=0.1, max_depth=-1,\n",
    "        min_child_samples=20, min_child_weight=0.001, min_split_gain=0.0,\n",
    "        n_estimators=100, n_jobs=-1, num_leaves=31, objective=None,\n",
    "        random_state=None, reg_alpha=0.0, reg_lambda=0.0, silent=True,\n",
    "        subsample=1.0, subsample_for_bin=200000, subsample_freq=0)\n",
    "model.fit(train_x, train_y)"
   ]
  },
  {
   "cell_type": "markdown",
   "metadata": {},
   "source": [
    "## Evaluate"
   ]
  },
  {
   "cell_type": "code",
   "execution_count": 15,
   "metadata": {},
   "outputs": [
    {
     "data": {
      "text/plain": [
       "0.9989997499374844"
      ]
     },
     "execution_count": 15,
     "metadata": {},
     "output_type": "execute_result"
    }
   ],
   "source": [
    "accuracy_score(model.predict(train_x), train_y)"
   ]
  },
  {
   "cell_type": "code",
   "execution_count": 16,
   "metadata": {},
   "outputs": [
    {
     "data": {
      "text/plain": [
       "0.652"
      ]
     },
     "execution_count": 16,
     "metadata": {},
     "output_type": "execute_result"
    }
   ],
   "source": [
    "accuracy_score(model.predict(test_x), test_y)"
   ]
  },
  {
   "cell_type": "code",
   "execution_count": 17,
   "metadata": {},
   "outputs": [
    {
     "name": "stdout",
     "output_type": "stream",
     "text": [
      "Accuracy of    A: 0.7625 ( 183/ 240)\n",
      "Accuracy of    I: 0.6117 ( 115/ 188)\n",
      "Accuracy of    U: 0.6053 (  69/ 114)\n",
      "Accuracy of    E: 0.5571 (  78/ 140)\n",
      "Accuracy of    O: 0.7864 ( 162/ 206)\n",
      "Accuracy of    N: 0.4018 (  45/ 112)\n"
     ]
    }
   ],
   "source": [
    "pred = model.predict(test_x)\n",
    "\n",
    "class_correct = [0] * len(letters)\n",
    "class_total = [0] * len(letters)\n",
    "\n",
    "for p, a in zip(pred, test_y):\n",
    "    class_total[a] += 1\n",
    "    if p == a:\n",
    "        class_correct[a] += 1\n",
    "        \n",
    "for i, l in enumerate(letters):\n",
    "    print('Accuracy of    {}: {:.4f} ({:4d}/{:4d})'.format(l, class_correct[i]/class_total[i], class_correct[i], class_total[i]))"
   ]
  },
  {
   "cell_type": "code",
   "execution_count": null,
   "metadata": {},
   "outputs": [],
   "source": []
  }
 ],
 "metadata": {
  "kernelspec": {
   "display_name": "Python 3",
   "language": "python",
   "name": "python3"
  },
  "language_info": {
   "codemirror_mode": {
    "name": "ipython",
    "version": 3
   },
   "file_extension": ".py",
   "mimetype": "text/x-python",
   "name": "python",
   "nbconvert_exporter": "python",
   "pygments_lexer": "ipython3",
   "version": "3.7.4"
  }
 },
 "nbformat": 4,
 "nbformat_minor": 4
}
